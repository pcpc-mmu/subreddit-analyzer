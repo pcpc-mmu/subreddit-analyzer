{
 "cells": [
  {
   "cell_type": "code",
   "execution_count": 10,
   "metadata": {},
   "outputs": [],
   "source": [
    "import pandas as pd\n",
    "import re\n",
    "\n",
    "import time"
   ]
  },
  {
   "cell_type": "markdown",
   "metadata": {},
   "source": [
    "Done:\n",
    "- Scraping reddit to CSV\n",
    "- CSV to Pandas Dataframe\n",
    "\n",
    "\n",
    "- Run SentimentGrapher on Dataframe\n",
    "- Run WordCounter on Dataframe\n",
    "\n",
    "\n",
    "\n",
    "ToDo:\n",
    "- (Put DataframeExtractor in AnalysisClass instead of outside loop?)\n",
    "- Make DataframeExtractor column_value accept regex queries rather than just a value - DONE \n",
    "- Modify EmbeddingComparer to see most quintessential wordcounts (and not replicate Scattertext?)\n"
   ]
  },
  {
   "cell_type": "markdown",
   "metadata": {},
   "source": [
    "### Scraping Reddit"
   ]
  },
  {
   "cell_type": "code",
   "execution_count": 6,
   "metadata": {},
   "outputs": [],
   "source": [
    "subs = [\"worldpolitics\", \"anime_titties\"]\n",
    "#maxs = 1000 # I LITERALLY TRIED FOR HOURS TO HAVE THIS NOT HARD CODED DEAR GOD PLEASE HELP ME #TODO"
   ]
  },
  {
   "cell_type": "code",
   "execution_count": 7,
   "metadata": {},
   "outputs": [],
   "source": [
    "# %run scripts/Submissions_edit.py \n",
    "# %run scripts/Comments_edit.py\n",
    "\n",
    "# #submissioninit(subs)\n",
    "# #commentsinit(subs)"
   ]
  },
  {
   "cell_type": "code",
   "execution_count": 8,
   "metadata": {},
   "outputs": [
    {
     "name": "stdout",
     "output_type": "stream",
     "text": [
      "Max submissions set to 25000\n",
      "Downloading: worldpolitics\n",
      "Downloading: 500 submissions\n",
      "Downloading: 500 submissions\n",
      "Downloading: 500 submissions\n",
      "Downloading: 500 submissions\n",
      "Downloading: 500 submissions\n",
      "Downloading: 500 submissions\n",
      "Downloading: 500 submissions\n",
      "Downloading: 500 submissions\n",
      "Downloading: 500 submissions\n",
      "Downloading: 500 submissions\n",
      "Downloading: 500 submissions\n",
      "Downloading: 500 submissions\n",
      "Downloading: 500 submissions\n",
      "Downloading: 500 submissions\n",
      "Downloading: 500 submissions\n",
      "Downloading: 500 submissions\n",
      "Downloading: 500 submissions\n",
      "Downloading: 500 submissions\n",
      "Downloading: 500 submissions\n",
      "Downloading: 500 submissions\n",
      "Downloading: 500 submissions\n",
      "Downloading: 500 submissions\n",
      "Downloading: 500 submissions\n",
      "Downloading: 500 submissions\n",
      "Downloading: 500 submissions\n",
      "Downloading: 500 submissions\n",
      "Downloading: 500 submissions\n",
      "Downloading: 500 submissions\n",
      "Downloading: 500 submissions\n",
      "Downloading: 500 submissions\n",
      "Downloading: 500 submissions\n",
      "Downloading: 500 submissions\n",
      "Downloading: 500 submissions\n",
      "Downloading: 500 submissions\n",
      "Downloading: 500 submissions\n",
      "Downloading: 500 submissions\n",
      "Downloading: 500 submissions\n",
      "Downloading: 500 submissions\n",
      "Downloading: 500 submissions\n",
      "Downloading: 500 submissions\n",
      "Downloading: 500 submissions\n",
      "Downloading: 500 submissions\n",
      "Downloading: 500 submissions\n",
      "Downloading: 500 submissions\n",
      "Downloading: 500 submissions\n",
      "Downloading: 500 submissions\n",
      "Downloading: 500 submissions\n",
      "Downloading: 500 submissions\n",
      "Downloading: 500 submissions\n",
      "Downloading: 500 submissions\n",
      "Download complete.\n",
      "Downloading: anime_titties\n",
      "Downloading: 500 submissions\n",
      "Downloading: 500 submissions\n",
      "Downloading: 500 submissions\n",
      "Downloading: 500 submissions\n",
      "Downloading: 500 submissions\n",
      "Downloading: 68 submissions\n",
      "No more results.\n"
     ]
    }
   ],
   "source": [
    "# %run scripts/Submissions_edit.py 25000\n",
    "# %run scripts/Comments_edit.py 2000\n",
    "\n",
    "# submissioninit(subs)\n",
    "# #commentsinit(subs)"
   ]
  },
  {
   "cell_type": "code",
   "execution_count": 9,
   "metadata": {},
   "outputs": [
    {
     "name": "stdout",
     "output_type": "stream",
     "text": [
      "Downloading: worldpolitics\n",
      "Downloading: 500 comments\n",
      "Downloading: 500 comments\n",
      "Downloading: 500 comments\n",
      "Downloading: 500 comments\n",
      "Downloading: 500 comments\n",
      "Downloading: 500 comments\n",
      "Downloading: 500 comments\n",
      "Downloading: 500 comments\n",
      "Downloading: 500 comments\n",
      "Downloading: 500 comments\n",
      "Download complete.\n",
      "Downloading: anime_titties\n",
      "Downloading: 500 comments\n",
      "Downloading: 500 comments\n",
      "Downloading: 500 comments\n",
      "Downloading: 500 comments\n",
      "Downloading: 500 comments\n",
      "Downloading: 500 comments\n",
      "Downloading: 500 comments\n",
      "Downloading: 500 comments\n",
      "Downloading: 500 comments\n",
      "Downloading: 500 comments\n",
      "Download complete.\n"
     ]
    }
   ],
   "source": [
    "\n",
    "%run scripts/Comments_edit.py 2000\n",
    "commentsinit(subs)"
   ]
  },
  {
   "cell_type": "code",
   "execution_count": 18,
   "metadata": {},
   "outputs": [],
   "source": [
    "%run code/AnalysisClasses.py\n",
    "\n",
    "def CSVtoDF(subreddit, contenttype):\n",
    "    submissions = pd.read_csv(\"csvs/\" + subreddit + \"-submissions.csv\") \n",
    "    comments = pd.read_csv(\"csvs/\" + subreddit + \"-comments.csv\")\n",
    "    if contenttype == 'comments':\n",
    "        return comments\n",
    "    if contenttype == 'submissions':\n",
    "        return submissions"
   ]
  },
  {
   "cell_type": "code",
   "execution_count": 19,
   "metadata": {},
   "outputs": [],
   "source": [
    "worldpolitics_submissions = CSVtoDF('worldpolitics', 'submissions')\n",
    "worldpolitics_comments = CSVtoDF('worldpolitics', 'comments')\n",
    "anime_titties_submissions = CSVtoDF('anime_titties', 'submissions')\n",
    "anime_titties_comments = CSVtoDF('anime_titties', 'comments')"
   ]
  },
  {
   "cell_type": "code",
   "execution_count": 20,
   "metadata": {},
   "outputs": [
    {
     "name": "stdout",
     "output_type": "stream",
     "text": [
      "                 datetime               author  \\\n",
      "0     2020-07-02 12:39:21             jackst10   \n",
      "1     2020-07-02 12:35:37         ExplosiveRox   \n",
      "2     2020-07-02 12:34:45  bondrewd-lord-of-ew   \n",
      "3     2020-07-02 12:31:15       Butterferret12   \n",
      "4     2020-07-02 12:28:34        MAGIC_EYE_BOT   \n",
      "...                   ...                  ...   \n",
      "4995  2020-06-29 20:11:26                krawm   \n",
      "4996  2020-06-29 20:11:02           Gnome_Sane   \n",
      "4997  2020-06-29 20:10:52  thisismyusername_98   \n",
      "4998  2020-06-29 20:10:00                krawm   \n",
      "4999  2020-06-29 20:09:58         Leevilstoeoe   \n",
      "\n",
      "                                                   body  \n",
      "0                                            Niet blyat  \n",
      "1                                                  nice  \n",
      "2                                           Begone THOT  \n",
      "3                                     The true centrist  \n",
      "4     This post has been automatically removed becau...  \n",
      "...                                                 ...  \n",
      "4995                                SCP-8548: Cyclopian  \n",
      "4996    \"Your Rectum\". Now that's an interesting title.  \n",
      "4997  Who doesn't!? Nobody admits it... But everyone...  \n",
      "4998  The perfectly summarizes the current state of ...  \n",
      "4999  I have no idea what's happening in this, or wh...  \n",
      "\n",
      "[5000 rows x 3 columns]\n"
     ]
    }
   ],
   "source": [
    "print(worldpolitics_comments)\n"
   ]
  },
  {
   "cell_type": "code",
   "execution_count": 34,
   "metadata": {},
   "outputs": [
    {
     "name": "stdout",
     "output_type": "stream",
     "text": [
      "min date is time.struct_time(tm_year=2020, tm_mon=7, tm_mday=2, tm_hour=0, tm_min=0, tm_sec=0, tm_wday=3, tm_yday=184, tm_isdst=-1)\n",
      "killing rows []\n"
     ]
    }
   ],
   "source": [
    "%run code/AnalysisClasses.py\n",
    "worldpolitics_comments = AnalysisClasses.DateFilterADF(dataframe=worldpolitics_comments, min_date=\"2020-07-02 00:00:00\")"
   ]
  },
  {
   "cell_type": "code",
   "execution_count": 35,
   "metadata": {},
   "outputs": [
    {
     "name": "stdout",
     "output_type": "stream",
     "text": [
      "                datetime               author  \\\n",
      "0    2020-07-02 12:39:21             jackst10   \n",
      "1    2020-07-02 12:35:37         ExplosiveRox   \n",
      "2    2020-07-02 12:34:45  bondrewd-lord-of-ew   \n",
      "3    2020-07-02 12:31:15       Butterferret12   \n",
      "4    2020-07-02 12:28:34        MAGIC_EYE_BOT   \n",
      "..                   ...                  ...   \n",
      "692  2020-07-02 00:04:50              hrothni   \n",
      "693  2020-07-02 00:03:54        myriclisselle   \n",
      "694  2020-07-02 00:01:51             FosterRI   \n",
      "695  2020-07-02 00:00:52            [deleted]   \n",
      "696  2020-07-02 00:00:17      WinterNeoQuartz   \n",
      "\n",
      "                                                  body  \n",
      "0                                           Niet blyat  \n",
      "1                                                 nice  \n",
      "2                                          Begone THOT  \n",
      "3                                    The true centrist  \n",
      "4    This post has been automatically removed becau...  \n",
      "..                                                 ...  \n",
      "692                                    Wow. Time flies  \n",
      "693                                               Same  \n",
      "694  It is really amazing. Do you know why British ...  \n",
      "695                                          [removed]  \n",
      "696                                           Downvote  \n",
      "\n",
      "[697 rows x 3 columns]\n"
     ]
    }
   ],
   "source": [
    "print(worldpolitics_comments)"
   ]
  },
  {
   "cell_type": "markdown",
   "metadata": {},
   "source": [
    "### Analyzing reddit"
   ]
  },
  {
   "cell_type": "markdown",
   "metadata": {},
   "source": [
    "#### Selecting a column + column value"
   ]
  },
  {
   "cell_type": "code",
   "execution_count": 14,
   "metadata": {},
   "outputs": [
    {
     "name": "stdout",
     "output_type": "stream",
     "text": [
      "                 datetime         author  \\\n",
      "3     2020-06-25 19:37:48  LordJohnStark   \n",
      "30    2020-06-25 19:11:14  AutoModerator   \n",
      "780   2020-06-25 07:23:04  AutoModerator   \n",
      "782   2020-06-25 07:17:10  AutoModerator   \n",
      "861   2020-06-25 06:05:41  AutoModerator   \n",
      "2477  2020-06-24 12:18:19  AutoModerator   \n",
      "3010  2020-06-24 04:47:58  AutoModerator   \n",
      "3498  2020-06-23 21:53:09  AutoModerator   \n",
      "3995  2020-06-23 16:09:59  AutoModerator   \n",
      "4095  2020-06-23 14:08:02     PrimalMusk   \n",
      "4766  2020-06-23 00:44:15  AutoModerator   \n",
      "4995  2020-06-22 21:43:20  AutoModerator   \n",
      "4996  2020-06-22 21:43:13     PrimalMusk   \n",
      "\n",
      "                                                   body  \n",
      "3     Yeah i was like,   wtf this has nothing to do ...  \n",
      "30    We do not currently accept submissions from ne...  \n",
      "780   We do not currently accept submissions from ne...  \n",
      "782   We do not currently accept submissions from ne...  \n",
      "861   We do not currently accept submissions from ne...  \n",
      "2477  We do not currently accept submissions from ne...  \n",
      "3010  We do not currently accept submissions from ne...  \n",
      "3498  We do not currently accept submissions from ne...  \n",
      "3995  We do not currently accept submissions from ne...  \n",
      "4095  &gt; Congratulations.\\n\\nThank you\\n\\n&gt; Are...  \n",
      "4766  We do not currently accept submissions from ne...  \n",
      "4995  We do not currently accept submissions from ne...  \n",
      "4996                                               Lol.  \n"
     ]
    }
   ],
   "source": [
    "%run code/AnalysisClasses.py\n",
    "\n",
    "#AutoModerator = DataframeExtractor(worldpolitics_comments, 'author', ['AutoModerator'])\n",
    "#AutoModerator = DataframeExtractor(worldpolitics_comments, 'author', ['AutoModerator'], textonly=\"yes\")\n",
    "multipleauthors = DataframeExtractor(dataframe=worldpolitics_comments, column='author', columnvalue=['AutoModerator', 'LordJohnStark', 'PrimalMusk'])\n",
    "print(multipleauthors)\n",
    "\n",
    "#wp_com_2020 = AnalysisClasses.DataframeExtractor(worldpolitics_comments, 'datetime') # TODO filter for time etc"
   ]
  },
  {
   "cell_type": "markdown",
   "metadata": {},
   "source": [
    "#### Integrating that with Sentiment Analysis"
   ]
  },
  {
   "cell_type": "code",
   "execution_count": 15,
   "metadata": {},
   "outputs": [
    {
     "data": {
      "image/png": "[encoded data removed]",
      "text/plain": [
       "<Figure size 432x288 with 1 Axes>"
      ]
     },
     "metadata": {
      "needs_background": "light"
     },
     "output_type": "display_data"
    },
    {
     "data": {
      "text/plain": [
       "<Figure size 432x288 with 0 Axes>"
      ]
     },
     "metadata": {},
     "output_type": "display_data"
    }
   ],
   "source": [
    "#TODO DataframeExtractor in same class?\n",
    "%run code/AnalysisClasses.py\n",
    "\n",
    "#sen = AnalysisClasses.SentimentGrapher(dataframe=worldpolitics_comments, column='author', column_value=(['AutoModerator', 'LordJohnStark', 'PrimalMusk']))\n",
    "sen = AnalysisClasses.SentimentGrapher(dataframe=worldpolitics_comments, column='author', column_value=(['AutoModerator', 'LordJohnStark', 'PrimalMusk']), plotname='plots/sentiment_author_trial', plotkind='bar')\n",
    "#print(sen)"
   ]
  },
  {
   "cell_type": "code",
   "execution_count": 37,
   "metadata": {},
   "outputs": [
    {
     "name": "stdout",
     "output_type": "stream",
     "text": [
      "min date is time.struct_time(tm_year=2020, tm_mon=7, tm_mday=2, tm_hour=0, tm_min=0, tm_sec=0, tm_wday=3, tm_yday=184, tm_isdst=-1)\n",
      "killing rows []\n"
     ]
    }
   ],
   "source": [
    "worldpolitics_comments_20200702 = AnalysisClasses.DateFilterADF(dataframe=worldpolitics_comments, min_date=\"2020-07-02 00:00:00\")\n",
    "\n",
    "start = time.strptime(our_date, \"%Y-%m-%d %H:%M:%S\" )\n",
    "week_start_day = int( ( time.tm_yday - time.tm_wday ) / 7 )\n",
    "time.tm_yday = week_start_day * 7\n",
    "time.tm_wday = 0\n",
    "end = time(start)\n",
    "end = end.timedelta(days=7)"
   ]
  },
  {
   "cell_type": "code",
   "execution_count": 43,
   "metadata": {},
   "outputs": [
    {
     "name": "stdout",
     "output_type": "stream",
     "text": [
      "2020-07-02 13:52:46.127530\n",
      "2020-07-16 13:52:46.127530\n"
     ]
    }
   ],
   "source": [
    "today = datetime.today()\n",
    "print(today)\n",
    "\n",
    "from datetime import timedelta\n",
    "intwoweeks = today + timedelta(weeks=2)\n",
    "print(intwoweeks)\n",
    "#today_week = today.timedelta(weeks)\n",
    "\n",
    "twoweekdifference = \n"
   ]
  },
  {
   "cell_type": "code",
   "execution_count": 59,
   "metadata": {},
   "outputs": [
    {
     "name": "stdout",
     "output_type": "stream",
     "text": [
      "min date is time.struct_time(tm_year=2019, tm_mon=7, tm_mday=2, tm_hour=0, tm_min=0, tm_sec=0, tm_wday=1, tm_yday=183, tm_isdst=-1)\n"
     ]
    },
    {
     "data": {
      "image/png": "[encoded data removed]",
      "text/plain": [
       "<Figure size 432x288 with 1 Axes>"
      ]
     },
     "metadata": {
      "needs_background": "light"
     },
     "output_type": "display_data"
    },
    {
     "name": "stdout",
     "output_type": "stream",
     "text": [
      "          author   neg_avg   neu_avg   pos_avg\n",
      "0  AutoModerator  0.097000  0.838000  0.064000\n",
      "0  LordJohnStark  0.048500  0.419000  0.032000\n",
      "0     PrimalMusk  0.032333  0.279333  0.021333\n"
     ]
    },
    {
     "data": {
      "text/plain": [
       "<Figure size 432x288 with 0 Axes>"
      ]
     },
     "metadata": {},
     "output_type": "display_data"
    }
   ],
   "source": [
    "%run code/AnalysisClasses.py\n",
    "sen = AnalysisClasses.SentimentGrapher(dataframe=AnalysisClasses.DateFilterADF(worldpolitics_comments,min_date=\"2019-07-02 00:00:00\"), column='author', column_value=(['AutoModerator', 'LordJohnStark', 'PrimalMusk']), plotname='plots/sentiment_author_trial', plotkind='bar')\n",
    "\n",
    "print(sen)"
   ]
  },
  {
   "cell_type": "code",
   "execution_count": null,
   "metadata": {},
   "outputs": [],
   "source": []
  },
  {
   "cell_type": "code",
   "execution_count": null,
   "metadata": {},
   "outputs": [],
   "source": []
  },
  {
   "cell_type": "markdown",
   "metadata": {},
   "source": [
    "#### print(anime_titties_comments)\n",
    "\n",
    "#TODO with regex?\n",
    "animetittiesovertime = DataframeExtractor(dataframe=anime_titties_comments, column='datetime', columnvalue=['2020'])\n",
    "print(animetittiesovertime)"
   ]
  },
  {
   "cell_type": "markdown",
   "metadata": {},
   "source": [
    "#### Wordcount test"
   ]
  },
  {
   "cell_type": "code",
   "execution_count": 69,
   "metadata": {},
   "outputs": [
    {
     "name": "stdout",
     "output_type": "stream",
     "text": [
      "Counter({'you': 15, 'the': 15, 'i': 9, 'a': 9, 'are': 8, 'white': 8, 'that': 8, 't': 7, 'being': 7, 're': 7, 'they': 7, 'and': 6, 'yeah': 5, 'your': 5, 'it': 5, 'to': 5, 'wrong': 5, 'is': 5, 's': 5, 'be': 5, 'just': 5, 'issue': 5, 'how': 3, 'deleted': 3, 'all': 3, 'my': 3, 'have': 3, 'again': 3, 'some': 3, 'hispanics': 3, 'with': 3, 'm': 3, 'technically': 3, 'if': 3, 'so': 3, 'people': 3, 'but': 3, 'for': 3, 'tell': 2, 'me': 2, 'of': 2, 'll': 2, 'yours': 2, 'because': 2, 'comments': 2, 'still': 2, 'high': 2, 'off': 2, 'own': 2, 'about': 2, 'doesn': 2, 'by': 2, 'thing': 2, 'think': 2, 'good': 2, 'cunt': 2, 'or': 2, 'from': 2, 'this': 2, 'us': 2, '21st': 2, 'century': 2, 'concentration': 2, 'camps': 2, 'detained': 2, 'non': 2, 'say': 2, 'can': 2, 'not': 2, 'semantics': 2, 'african': 2, 'here': 2, 'on': 2, 'many': 1, 'mine': 1, 'those': 1, 'aren': 1, 'now': 1, 'lying': 1, 'go': 1, 'back': 1, 'look': 1, 'there': 1, 'been': 1, 'gas': 1, 'telling': 1, 'someone': 1, 'excuse': 1, 'prick': 1, 'fuck': 1, 'does': 1, 'really': 1, 'matter': 1, 'seriously': 1, 'contributing': 1, 'society': 1, 'facts': 1, 'self': 1, 'righteousness': 1, 'point': 1, 'where': 1, 'considered': 1, 'according': 1, 'only': 1, 'today': 1, 'doing': 1, 'trying': 1, 'damn': 1, 'hard': 1, 'professional': 1, 'learn': 1, 'dad': 1, 'fine': 1, 'ethnically': 1, 'going': 1, 'move': 1, 'goalposts': 1, 'time': 1, 'oh': 1, 'show': 1, 'in': 1, 'cages': 1, 'wait': 1, 'am': 1, 'bad': 1, 'bigger': 1, 'than': 1, 'saying': 1, 'since': 1, 'shouldn': 1, 'whites': 1, 'an': 1, 'contrarians': 1, 'shit': 1, 'against': 1, 'won': 1, 'actually': 1, 'what': 1, 'support': 1, 'let': 1, 'mind': 1, 'worst': 1, 'usually': 1, 'right': 1, 'well': 1, 'failing': 1, 'short': 1, 'sweet': 1, 'enough': 1, 'race': 1, 'made': 1, 'up': 1, 'concept': 1, 'person': 1, 'american': 1, 'south': 1, 'africa': 1, 'don': 1, 'face': 1, 'same': 1, 'issues': 1, 'as': 1, 'black': 1, 'americans': 1, 'wording': 1, 'isn': 1, 'value': 1, 'life': 1, 'color': 1, 'class': 1, 'real': 1, 'modern': 1, 'day': 1, 'nah': 1, 'we': 1, 'gestapo': 1, 'law': 1, 'enforcement': 1, 'plus': 1, 'dentention': 1, 'facilities': 1, 'immigrants': 1, 'last': 1, 'podcast': 1, 'left': 1, 'has': 1, 'episode': 1})\n",
      "15\n"
     ]
    }
   ],
   "source": [
    "%run code/AnalysisClasses.py\n",
    "\n",
    "animetitties_user_dogmodoga = AnalysisClasses.WordCounter(dataframe=anime_titties_comments, column='author', column_value=['dogmodoga'])\n",
    "animetitties_user_lonliestmonroni = AnalysisClasses.WordCounter(dataframe=anime_titties_comments, column='author', column_value=['LonliestMonroni'])\n",
    "print(animetitties_user_lonliestmonroni)\n",
    "print(animetitties_user_lonliestmonroni[\"you\"])"
   ]
  },
  {
   "cell_type": "code",
   "execution_count": null,
   "metadata": {},
   "outputs": [],
   "source": []
  },
  {
   "cell_type": "code",
   "execution_count": 70,
   "metadata": {},
   "outputs": [
    {
     "name": "stdout",
     "output_type": "stream",
     "text": [
      "Counter({'were': 5, 'british': 4, 'in': 4, 'like': 3, 'mean': 2, 'when': 2, 'vote': 2, 'do': 2, 'was': 2, 'of': 2, 'hong': 2, 'kong': 2, 'their': 2, 'gt': 2, 'treated': 1, 'second': 1, 'citizens': 1, 'couldn': 1, 'until': 1, 'the': 1, '80s': 1, 'allowed': 1, 'hand': 1, 'back': 1, 'even': 1, 'then': 1, 'able': 1, 'governor': 1, 'appointed': 1, 'by': 1, 'widespread': 1, 'demonstrations': 1, 'protests': 1, 'rule': 1, 'colony': 1, 'led': 1, 'wing': 1, 'groups': 1, 'trade': 1, 'unions': 1, 'these': 1, 'put': 1, 'down': 1, 'very': 1, 'violently': 1, 'colonial': 1, 'forces': 1, 'pleased': 1, 'performance': 1, 'police': 1, 'queen': 1, 'elizabeth': 1, 'ii': 1, 'granted': 1, 'force': 1, 'privilege': 1, 'using': 1, 'royal': 1, 'name': 1, 'downvoting': 1, 'change': 1, 'fact': 1, 'whitewashing': 1, 'media': 1, 'portrayal': 1, 'situation': 1, '~~england': 1, 'giving': 1, 'china': 1, 'biggest': 1, 'mistake': 1, '20th': 1, '~~': 1, 'miss': 1, 'western': 1, 'imperialism': 1, '1700s': 1, 'keep': 1, 'colonized': 1, 'land': 1, 'ftfy': 1})\n"
     ]
    }
   ],
   "source": [
    "print(animetitties_user_dogmodoga - animetitties_user_lonliestmonroni)"
   ]
  },
  {
   "cell_type": "code",
   "execution_count": 71,
   "metadata": {},
   "outputs": [
    {
     "name": "stdout",
     "output_type": "stream",
     "text": [
      "Counter({'you': 13, 'a': 9, 'are': 8, 'white': 8, 'i': 7, 'being': 7, 're': 7, 'that': 7, 'yeah': 5, 't': 5, 'your': 5, 'wrong': 5, 'is': 5, 's': 5, 'just': 5, 'issue': 5, 'they': 5, 'be': 4, 'how': 3, 'deleted': 3, 'have': 3, 'again': 3, 'some': 3, 'hispanics': 3, 'it': 3, 'm': 3, 'technically': 3, 'if': 3, 'people': 3, 'but': 3, 'tell': 2, 'me': 2, 'll': 2, 'yours': 2, 'comments': 2, 'all': 2, 'my': 2, 'high': 2, 'off': 2, 'own': 2, 'doesn': 2, 'with': 2, 'thing': 2, 'think': 2, 'good': 2, 'cunt': 2, 'from': 2, 'this': 2, 'us': 2, '21st': 2, 'concentration': 2, 'camps': 2, 'detained': 2, 'non': 2, 'say': 2, 'for': 2, 'semantics': 2, 'african': 2, 'here': 2, 'on': 2, 'many': 1, 'mine': 1, 'and': 1, 'those': 1, 'aren': 1, 'now': 1, 'lying': 1, 'go': 1, 'look': 1, 'still': 1, 'gas': 1, 'telling': 1, 'someone': 1, 'about': 1, 'excuse': 1, 'prick': 1, 'fuck': 1, 'does': 1, 'really': 1, 'matter': 1, 'seriously': 1, 'contributing': 1, 'to': 1, 'society': 1, 'facts': 1, 'self': 1, 'righteousness': 1, 'point': 1, 'considered': 1, 'according': 1, 'today': 1, 'trying': 1, 'so': 1, 'damn': 1, 'hard': 1, 'professional': 1, 'or': 1, 'learn': 1, 'dad': 1, 'fine': 1, 'ethnically': 1, 'going': 1, 'move': 1, 'goalposts': 1, 'time': 1, 'oh': 1, 'show': 1, 'cages': 1, 'wait': 1, 'am': 1, 'century': 1, 'bad': 1, 'bigger': 1, 'than': 1, 'saying': 1, 'since': 1, 'shouldn': 1, 'whites': 1, 'an': 1, 'contrarians': 1, 'shit': 1, 'actually': 1, 'what': 1, 'support': 1, 'let': 1, 'mind': 1, 'worst': 1, 'can': 1, 'usually': 1, 'right': 1, 'well': 1, 'not': 1, 'failing': 1, 'short': 1, 'sweet': 1, 'enough': 1, 'race': 1, 'made': 1, 'up': 1, 'concept': 1, 'person': 1, 'american': 1, 'south': 1, 'africa': 1, 'don': 1, 'face': 1, 'same': 1, 'issues': 1, 'black': 1, 'americans': 1, 'wording': 1, 'isn': 1, 'value': 1, 'life': 1, 'color': 1, 'real': 1, 'modern': 1, 'day': 1, 'nah': 1, 'we': 1, 'gestapo': 1, 'law': 1, 'enforcement': 1, 'plus': 1, 'dentention': 1, 'facilities': 1, 'immigrants': 1, 'last': 1, 'podcast': 1, 'episode': 1})\n"
     ]
    }
   ],
   "source": [
    "print(animetitties_user_lonliestmonroni - animetitties_user_dogmodoga)"
   ]
  },
  {
   "cell_type": "code",
   "execution_count": 94,
   "metadata": {
    "scrolled": true
   },
   "outputs": [
    {
     "name": "stdout",
     "output_type": "stream",
     "text": [
      "in             : user_a=  5, user_b=  1 (difference: 4)\n",
      "of             : user_a=  4, user_b=  2 (difference: 2)\n",
      "by             : user_a=  3, user_b=  2 (difference: 1)\n",
      "the            : user_a= 16, user_b= 15 (difference: 1)\n",
      "back           : user_a=  2, user_b=  1 (difference: 1)\n",
      "won            : user_a=  1, user_b=  1 (difference: 0)\n",
      "where          : user_a=  1, user_b=  1 (difference: 0)\n",
      "there          : user_a=  1, user_b=  1 (difference: 0)\n",
      "class          : user_a=  1, user_b=  1 (difference: 0)\n",
      "because        : user_a=  2, user_b=  2 (difference: 0)\n",
      "against        : user_a=  1, user_b=  1 (difference: 0)\n",
      "doing          : user_a=  1, user_b=  1 (difference: 0)\n",
      "been           : user_a=  1, user_b=  1 (difference: 0)\n",
      "has            : user_a=  1, user_b=  1 (difference: 0)\n",
      "as             : user_a=  1, user_b=  1 (difference: 0)\n",
      "only           : user_a=  1, user_b=  1 (difference: 0)\n",
      "left           : user_a=  1, user_b=  1 (difference: 0)\n",
      "to             : user_a=  4, user_b=  5 (difference:-1)\n",
      "so             : user_a=  2, user_b=  3 (difference:-1)\n",
      "not            : user_a=  1, user_b=  2 (difference:-1)\n",
      "can            : user_a=  1, user_b=  2 (difference:-1)\n",
      "and            : user_a=  5, user_b=  6 (difference:-1)\n",
      "century        : user_a=  1, user_b=  2 (difference:-1)\n",
      "or             : user_a=  1, user_b=  2 (difference:-1)\n",
      "about          : user_a=  1, user_b=  2 (difference:-1)\n",
      "still          : user_a=  1, user_b=  2 (difference:-1)\n",
      "all            : user_a=  1, user_b=  3 (difference:-2)\n",
      "my             : user_a=  1, user_b=  3 (difference:-2)\n",
      "for            : user_a=  1, user_b=  3 (difference:-2)\n",
      "with           : user_a=  1, user_b=  3 (difference:-2)\n",
      "it             : user_a=  2, user_b=  5 (difference:-3)\n",
      "be             : user_a=  1, user_b=  5 (difference:-4)\n",
      "they           : user_a=  2, user_b=  7 (difference:-5)\n",
      "t              : user_a=  2, user_b=  7 (difference:-5)\n",
      "i              : user_a=  2, user_b=  9 (difference:-7)\n",
      "that           : user_a=  1, user_b=  8 (difference:-7)\n",
      "you            : user_a=  2, user_b= 15 (difference:-13)\n"
     ]
    }
   ],
   "source": [
    "def IntersectionalDifferences(a,b):\n",
    "    \n",
    "    def SortByFrequency(i):\n",
    "        return(a[i]-b[i])\n",
    "    \n",
    "    def SortByUsageOfA(i):\n",
    "        return(a[i])\n",
    "    \n",
    "    intersection = set(a).intersection(set(b))\n",
    "    intersection_list = list(intersection)\n",
    "    #intersection_list.sort(key=SortByUsageOfA,reverse=True)\n",
    "    intersection_list.sort(key=SortByFrequency,reverse=True)\n",
    "    \n",
    "    for key in intersection_list:\n",
    "        print(\"{:15s}: user_a={:3}, user_b={:3} (difference:{:2})\".format(key,a[key],b[key],SortByFrequency(key)))\n",
    "                           \n",
    "IntersectionalDifferences(animetitties_user_dogmodoga,animetitties_user_lonliestmonroni)                  "
   ]
  },
  {
   "cell_type": "code",
   "execution_count": 110,
   "metadata": {},
   "outputs": [
    {
     "name": "stdout",
     "output_type": "stream",
     "text": [
      "were           : user_a=  5, user_b=  0 (difference: 5)\n",
      "british        : user_a=  4, user_b=  0 (difference: 4)\n",
      "in             : user_a=  5, user_b=  1 (difference: 4)\n",
      "like           : user_a=  3, user_b=  0 (difference: 3)\n",
      "do             : user_a=  2, user_b=  0 (difference: 2)\n",
      "gt             : user_a=  2, user_b=  0 (difference: 2)\n",
      "hong           : user_a=  2, user_b=  0 (difference: 2)\n",
      "mean           : user_a=  2, user_b=  0 (difference: 2)\n",
      "their          : user_a=  2, user_b=  0 (difference: 2)\n",
      "when           : user_a=  2, user_b=  0 (difference: 2)\n",
      "kong           : user_a=  2, user_b=  0 (difference: 2)\n",
      "vote           : user_a=  2, user_b=  0 (difference: 2)\n",
      "was            : user_a=  2, user_b=  0 (difference: 2)\n",
      "of             : user_a=  4, user_b=  2 (difference: 2)\n",
      "china          : user_a=  1, user_b=  0 (difference: 1)\n",
      "unions         : user_a=  1, user_b=  0 (difference: 1)\n",
      "giving         : user_a=  1, user_b=  0 (difference: 1)\n",
      "even           : user_a=  1, user_b=  0 (difference: 1)\n",
      "mistake        : user_a=  1, user_b=  0 (difference: 1)\n",
      "then           : user_a=  1, user_b=  0 (difference: 1)\n",
      "portrayal      : user_a=  1, user_b=  0 (difference: 1)\n",
      "groups         : user_a=  1, user_b=  0 (difference: 1)\n",
      "western        : user_a=  1, user_b=  0 (difference: 1)\n",
      "downvoting     : user_a=  1, user_b=  0 (difference: 1)\n",
      "name           : user_a=  1, user_b=  0 (difference: 1)\n",
      "forces         : user_a=  1, user_b=  0 (difference: 1)\n",
      "down           : user_a=  1, user_b=  0 (difference: 1)\n",
      "pleased        : user_a=  1, user_b=  0 (difference: 1)\n",
      "wing           : user_a=  1, user_b=  0 (difference: 1)\n",
      "~~             : user_a=  1, user_b=  0 (difference: 1)\n",
      "until          : user_a=  1, user_b=  0 (difference: 1)\n",
      "widespread     : user_a=  1, user_b=  0 (difference: 1)\n",
      "led            : user_a=  1, user_b=  0 (difference: 1)\n",
      "imperialism    : user_a=  1, user_b=  0 (difference: 1)\n",
      "~~england      : user_a=  1, user_b=  0 (difference: 1)\n",
      "second         : user_a=  1, user_b=  0 (difference: 1)\n",
      "80s            : user_a=  1, user_b=  0 (difference: 1)\n",
      "land           : user_a=  1, user_b=  0 (difference: 1)\n",
      "keep           : user_a=  1, user_b=  0 (difference: 1)\n",
      "couldn         : user_a=  1, user_b=  0 (difference: 1)\n",
      "these          : user_a=  1, user_b=  0 (difference: 1)\n",
      "fact           : user_a=  1, user_b=  0 (difference: 1)\n",
      "whitewashing   : user_a=  1, user_b=  0 (difference: 1)\n",
      "ftfy           : user_a=  1, user_b=  0 (difference: 1)\n",
      "put            : user_a=  1, user_b=  0 (difference: 1)\n",
      "force          : user_a=  1, user_b=  0 (difference: 1)\n",
      "20th           : user_a=  1, user_b=  0 (difference: 1)\n",
      "appointed      : user_a=  1, user_b=  0 (difference: 1)\n",
      "colonial       : user_a=  1, user_b=  0 (difference: 1)\n",
      "1700s          : user_a=  1, user_b=  0 (difference: 1)\n",
      "ii             : user_a=  1, user_b=  0 (difference: 1)\n",
      "allowed        : user_a=  1, user_b=  0 (difference: 1)\n",
      "treated        : user_a=  1, user_b=  0 (difference: 1)\n",
      "privilege      : user_a=  1, user_b=  0 (difference: 1)\n",
      "queen          : user_a=  1, user_b=  0 (difference: 1)\n",
      "rule           : user_a=  1, user_b=  0 (difference: 1)\n",
      "police         : user_a=  1, user_b=  0 (difference: 1)\n",
      "media          : user_a=  1, user_b=  0 (difference: 1)\n",
      "performance    : user_a=  1, user_b=  0 (difference: 1)\n",
      "hand           : user_a=  1, user_b=  0 (difference: 1)\n",
      "trade          : user_a=  1, user_b=  0 (difference: 1)\n",
      "able           : user_a=  1, user_b=  0 (difference: 1)\n",
      "protests       : user_a=  1, user_b=  0 (difference: 1)\n",
      "using          : user_a=  1, user_b=  0 (difference: 1)\n",
      "miss           : user_a=  1, user_b=  0 (difference: 1)\n",
      "biggest        : user_a=  1, user_b=  0 (difference: 1)\n",
      "citizens       : user_a=  1, user_b=  0 (difference: 1)\n",
      "demonstrations : user_a=  1, user_b=  0 (difference: 1)\n",
      "colony         : user_a=  1, user_b=  0 (difference: 1)\n",
      "governor       : user_a=  1, user_b=  0 (difference: 1)\n",
      "violently      : user_a=  1, user_b=  0 (difference: 1)\n",
      "elizabeth      : user_a=  1, user_b=  0 (difference: 1)\n",
      "colonized      : user_a=  1, user_b=  0 (difference: 1)\n",
      "granted        : user_a=  1, user_b=  0 (difference: 1)\n",
      "change         : user_a=  1, user_b=  0 (difference: 1)\n",
      "very           : user_a=  1, user_b=  0 (difference: 1)\n",
      "situation      : user_a=  1, user_b=  0 (difference: 1)\n",
      "royal          : user_a=  1, user_b=  0 (difference: 1)\n",
      "by             : user_a=  3, user_b=  2 (difference: 1)\n",
      "the            : user_a= 16, user_b= 15 (difference: 1)\n",
      "back           : user_a=  2, user_b=  1 (difference: 1)\n",
      "won            : user_a=  1, user_b=  1 (difference: 0)\n",
      "where          : user_a=  1, user_b=  1 (difference: 0)\n",
      "there          : user_a=  1, user_b=  1 (difference: 0)\n",
      "class          : user_a=  1, user_b=  1 (difference: 0)\n",
      "because        : user_a=  2, user_b=  2 (difference: 0)\n",
      "against        : user_a=  1, user_b=  1 (difference: 0)\n",
      "doing          : user_a=  1, user_b=  1 (difference: 0)\n",
      "been           : user_a=  1, user_b=  1 (difference: 0)\n",
      "has            : user_a=  1, user_b=  1 (difference: 0)\n",
      "as             : user_a=  1, user_b=  1 (difference: 0)\n",
      "only           : user_a=  1, user_b=  1 (difference: 0)\n",
      "left           : user_a=  1, user_b=  1 (difference: 0)\n",
      "to             : user_a=  4, user_b=  5 (difference:-1)\n",
      "so             : user_a=  2, user_b=  3 (difference:-1)\n",
      "not            : user_a=  1, user_b=  2 (difference:-1)\n",
      "can            : user_a=  1, user_b=  2 (difference:-1)\n",
      "and            : user_a=  5, user_b=  6 (difference:-1)\n",
      "century        : user_a=  1, user_b=  2 (difference:-1)\n",
      "or             : user_a=  1, user_b=  2 (difference:-1)\n",
      "about          : user_a=  1, user_b=  2 (difference:-1)\n",
      "still          : user_a=  1, user_b=  2 (difference:-1)\n",
      "all            : user_a=  1, user_b=  3 (difference:-2)\n",
      "my             : user_a=  1, user_b=  3 (difference:-2)\n",
      "for            : user_a=  1, user_b=  3 (difference:-2)\n",
      "with           : user_a=  1, user_b=  3 (difference:-2)\n",
      "it             : user_a=  2, user_b=  5 (difference:-3)\n",
      "be             : user_a=  1, user_b=  5 (difference:-4)\n",
      "they           : user_a=  2, user_b=  7 (difference:-5)\n",
      "t              : user_a=  2, user_b=  7 (difference:-5)\n",
      "i              : user_a=  2, user_b=  9 (difference:-7)\n",
      "that           : user_a=  1, user_b=  8 (difference:-7)\n",
      "you            : user_a=  2, user_b= 15 (difference:-13)\n"
     ]
    }
   ],
   "source": [
    "def Differences(a,b):\n",
    "    \n",
    "    def SortByFrequency(i):\n",
    "        try:\n",
    "            return(a[i]-b[i])\n",
    "        except e:\n",
    "            return 0\n",
    "    \n",
    "    def SortByUsageOfA(i):\n",
    "        return(a[i])\n",
    "    \n",
    "    difference = set(a).difference(set(b))\n",
    "    difference_list = list(difference)\n",
    "    \n",
    "    AButNotBPlusAAndB = (difference_list + intersection_list)\n",
    "    AButNotBPlusAAndB.sort(key=SortByFrequency,reverse=True)\n",
    "\n",
    "    for key in AButNotBPlusAAndB:\n",
    "        print(\"{:15s}: user_a={:3}, user_b={:3} (difference:{:2})\".format(key,a[key],b[key],SortByFrequency(key)))\n",
    "                           \n",
    "Differences(animetitties_user_dogmodoga,animetitties_user_lonliestmonroni)"
   ]
  },
  {
   "cell_type": "code",
   "execution_count": 112,
   "metadata": {},
   "outputs": [
    {
     "name": "stdout",
     "output_type": "stream",
     "text": [
      "were           : user_a=  5, user_b=  0 (difference: 5)\n",
      "british        : user_a=  4, user_b=  0 (difference: 4)\n",
      "in             : user_a=  5, user_b=  1 (difference: 4)\n",
      "like           : user_a=  3, user_b=  0 (difference: 3)\n",
      "gt             : user_a=  2, user_b=  0 (difference: 2)\n",
      "vote           : user_a=  2, user_b=  0 (difference: 2)\n",
      "do             : user_a=  2, user_b=  0 (difference: 2)\n",
      "hong           : user_a=  2, user_b=  0 (difference: 2)\n",
      "of             : user_a=  4, user_b=  2 (difference: 2)\n",
      "mean           : user_a=  2, user_b=  0 (difference: 2)\n",
      "was            : user_a=  2, user_b=  0 (difference: 2)\n",
      "their          : user_a=  2, user_b=  0 (difference: 2)\n",
      "when           : user_a=  2, user_b=  0 (difference: 2)\n",
      "kong           : user_a=  2, user_b=  0 (difference: 2)\n",
      "china          : user_a=  1, user_b=  0 (difference: 1)\n",
      "land           : user_a=  1, user_b=  0 (difference: 1)\n",
      "queen          : user_a=  1, user_b=  0 (difference: 1)\n",
      "even           : user_a=  1, user_b=  0 (difference: 1)\n",
      "western        : user_a=  1, user_b=  0 (difference: 1)\n",
      "downvoting     : user_a=  1, user_b=  0 (difference: 1)\n",
      "name           : user_a=  1, user_b=  0 (difference: 1)\n",
      "keep           : user_a=  1, user_b=  0 (difference: 1)\n",
      "couldn         : user_a=  1, user_b=  0 (difference: 1)\n",
      "fact           : user_a=  1, user_b=  0 (difference: 1)\n",
      "whitewashing   : user_a=  1, user_b=  0 (difference: 1)\n",
      "by             : user_a=  3, user_b=  2 (difference: 1)\n",
      "20th           : user_a=  1, user_b=  0 (difference: 1)\n",
      "appointed      : user_a=  1, user_b=  0 (difference: 1)\n",
      "police         : user_a=  1, user_b=  0 (difference: 1)\n",
      "trade          : user_a=  1, user_b=  0 (difference: 1)\n",
      "able           : user_a=  1, user_b=  0 (difference: 1)\n",
      "violently      : user_a=  1, user_b=  0 (difference: 1)\n",
      "wing           : user_a=  1, user_b=  0 (difference: 1)\n",
      "until          : user_a=  1, user_b=  0 (difference: 1)\n",
      "allowed        : user_a=  1, user_b=  0 (difference: 1)\n",
      "miss           : user_a=  1, user_b=  0 (difference: 1)\n",
      "colony         : user_a=  1, user_b=  0 (difference: 1)\n",
      "unions         : user_a=  1, user_b=  0 (difference: 1)\n",
      "giving         : user_a=  1, user_b=  0 (difference: 1)\n",
      "forces         : user_a=  1, user_b=  0 (difference: 1)\n",
      "down           : user_a=  1, user_b=  0 (difference: 1)\n",
      "~~             : user_a=  1, user_b=  0 (difference: 1)\n",
      "~~england      : user_a=  1, user_b=  0 (difference: 1)\n",
      "these          : user_a=  1, user_b=  0 (difference: 1)\n",
      "ii             : user_a=  1, user_b=  0 (difference: 1)\n",
      "hand           : user_a=  1, user_b=  0 (difference: 1)\n",
      "back           : user_a=  2, user_b=  1 (difference: 1)\n",
      "biggest        : user_a=  1, user_b=  0 (difference: 1)\n",
      "citizens       : user_a=  1, user_b=  0 (difference: 1)\n",
      "demonstrations : user_a=  1, user_b=  0 (difference: 1)\n",
      "governor       : user_a=  1, user_b=  0 (difference: 1)\n",
      "granted        : user_a=  1, user_b=  0 (difference: 1)\n",
      "80s            : user_a=  1, user_b=  0 (difference: 1)\n",
      "change         : user_a=  1, user_b=  0 (difference: 1)\n",
      "situation      : user_a=  1, user_b=  0 (difference: 1)\n",
      "then           : user_a=  1, user_b=  0 (difference: 1)\n",
      "portrayal      : user_a=  1, user_b=  0 (difference: 1)\n",
      "pleased        : user_a=  1, user_b=  0 (difference: 1)\n",
      "force          : user_a=  1, user_b=  0 (difference: 1)\n",
      "performance    : user_a=  1, user_b=  0 (difference: 1)\n",
      "led            : user_a=  1, user_b=  0 (difference: 1)\n",
      "put            : user_a=  1, user_b=  0 (difference: 1)\n",
      "colonial       : user_a=  1, user_b=  0 (difference: 1)\n",
      "1700s          : user_a=  1, user_b=  0 (difference: 1)\n",
      "treated        : user_a=  1, user_b=  0 (difference: 1)\n",
      "privilege      : user_a=  1, user_b=  0 (difference: 1)\n",
      "rule           : user_a=  1, user_b=  0 (difference: 1)\n",
      "protests       : user_a=  1, user_b=  0 (difference: 1)\n",
      "elizabeth      : user_a=  1, user_b=  0 (difference: 1)\n",
      "royal          : user_a=  1, user_b=  0 (difference: 1)\n",
      "mistake        : user_a=  1, user_b=  0 (difference: 1)\n",
      "groups         : user_a=  1, user_b=  0 (difference: 1)\n",
      "imperialism    : user_a=  1, user_b=  0 (difference: 1)\n",
      "the            : user_a= 16, user_b= 15 (difference: 1)\n",
      "using          : user_a=  1, user_b=  0 (difference: 1)\n",
      "widespread     : user_a=  1, user_b=  0 (difference: 1)\n",
      "second         : user_a=  1, user_b=  0 (difference: 1)\n",
      "ftfy           : user_a=  1, user_b=  0 (difference: 1)\n",
      "media          : user_a=  1, user_b=  0 (difference: 1)\n",
      "colonized      : user_a=  1, user_b=  0 (difference: 1)\n",
      "very           : user_a=  1, user_b=  0 (difference: 1)\n",
      "because        : user_a=  2, user_b=  2 (difference: 0)\n",
      "been           : user_a=  1, user_b=  1 (difference: 0)\n",
      "doing          : user_a=  1, user_b=  1 (difference: 0)\n",
      "has            : user_a=  1, user_b=  1 (difference: 0)\n",
      "left           : user_a=  1, user_b=  1 (difference: 0)\n",
      "won            : user_a=  1, user_b=  1 (difference: 0)\n",
      "against        : user_a=  1, user_b=  1 (difference: 0)\n",
      "class          : user_a=  1, user_b=  1 (difference: 0)\n",
      "only           : user_a=  1, user_b=  1 (difference: 0)\n",
      "where          : user_a=  1, user_b=  1 (difference: 0)\n",
      "there          : user_a=  1, user_b=  1 (difference: 0)\n",
      "as             : user_a=  1, user_b=  1 (difference: 0)\n",
      "move           : user_a=  0, user_b=  1 (difference:-1)\n",
      "aren           : user_a=  0, user_b=  1 (difference:-1)\n",
      "facts          : user_a=  0, user_b=  1 (difference:-1)\n",
      "usually        : user_a=  0, user_b=  1 (difference:-1)\n",
      "hard           : user_a=  0, user_b=  1 (difference:-1)\n",
      "enough         : user_a=  0, user_b=  1 (difference:-1)\n",
      "modern         : user_a=  0, user_b=  1 (difference:-1)\n",
      "bigger         : user_a=  0, user_b=  1 (difference:-1)\n",
      "considered     : user_a=  0, user_b=  1 (difference:-1)\n",
      "shouldn        : user_a=  0, user_b=  1 (difference:-1)\n",
      "africa         : user_a=  0, user_b=  1 (difference:-1)\n",
      "today          : user_a=  0, user_b=  1 (difference:-1)\n",
      "support        : user_a=  0, user_b=  1 (difference:-1)\n",
      "whites         : user_a=  0, user_b=  1 (difference:-1)\n",
      "americans      : user_a=  0, user_b=  1 (difference:-1)\n",
      "since          : user_a=  0, user_b=  1 (difference:-1)\n",
      "lying          : user_a=  0, user_b=  1 (difference:-1)\n",
      "south          : user_a=  0, user_b=  1 (difference:-1)\n",
      "plus           : user_a=  0, user_b=  1 (difference:-1)\n",
      "value          : user_a=  0, user_b=  1 (difference:-1)\n",
      "than           : user_a=  0, user_b=  1 (difference:-1)\n",
      "well           : user_a=  0, user_b=  1 (difference:-1)\n",
      "wait           : user_a=  0, user_b=  1 (difference:-1)\n",
      "many           : user_a=  0, user_b=  1 (difference:-1)\n",
      "am             : user_a=  0, user_b=  1 (difference:-1)\n",
      "day            : user_a=  0, user_b=  1 (difference:-1)\n",
      "race           : user_a=  0, user_b=  1 (difference:-1)\n",
      "telling        : user_a=  0, user_b=  1 (difference:-1)\n",
      "professional   : user_a=  0, user_b=  1 (difference:-1)\n",
      "color          : user_a=  0, user_b=  1 (difference:-1)\n",
      "shit           : user_a=  0, user_b=  1 (difference:-1)\n",
      "episode        : user_a=  0, user_b=  1 (difference:-1)\n",
      "and            : user_a=  5, user_b=  6 (difference:-1)\n",
      "according      : user_a=  0, user_b=  1 (difference:-1)\n",
      "cages          : user_a=  0, user_b=  1 (difference:-1)\n",
      "point          : user_a=  0, user_b=  1 (difference:-1)\n",
      "matter         : user_a=  0, user_b=  1 (difference:-1)\n",
      "life           : user_a=  0, user_b=  1 (difference:-1)\n",
      "bad            : user_a=  0, user_b=  1 (difference:-1)\n",
      "does           : user_a=  0, user_b=  1 (difference:-1)\n",
      "go             : user_a=  0, user_b=  1 (difference:-1)\n",
      "podcast        : user_a=  0, user_b=  1 (difference:-1)\n",
      "goalposts      : user_a=  0, user_b=  1 (difference:-1)\n",
      "face           : user_a=  0, user_b=  1 (difference:-1)\n",
      "so             : user_a=  2, user_b=  3 (difference:-1)\n",
      "seriously      : user_a=  0, user_b=  1 (difference:-1)\n",
      "not            : user_a=  1, user_b=  2 (difference:-1)\n",
      "fuck           : user_a=  0, user_b=  1 (difference:-1)\n",
      "law            : user_a=  0, user_b=  1 (difference:-1)\n",
      "nah            : user_a=  0, user_b=  1 (difference:-1)\n",
      "facilities     : user_a=  0, user_b=  1 (difference:-1)\n",
      "dad            : user_a=  0, user_b=  1 (difference:-1)\n",
      "society        : user_a=  0, user_b=  1 (difference:-1)\n",
      "isn            : user_a=  0, user_b=  1 (difference:-1)\n",
      "don            : user_a=  0, user_b=  1 (difference:-1)\n",
      "prick          : user_a=  0, user_b=  1 (difference:-1)\n",
      "fine           : user_a=  0, user_b=  1 (difference:-1)\n",
      "issues         : user_a=  0, user_b=  1 (difference:-1)\n",
      "black          : user_a=  0, user_b=  1 (difference:-1)\n",
      "we             : user_a=  0, user_b=  1 (difference:-1)\n",
      "century        : user_a=  1, user_b=  2 (difference:-1)\n",
      "show           : user_a=  0, user_b=  1 (difference:-1)\n",
      "what           : user_a=  0, user_b=  1 (difference:-1)\n",
      "saying         : user_a=  0, user_b=  1 (difference:-1)\n",
      "righteousness  : user_a=  0, user_b=  1 (difference:-1)\n",
      "really         : user_a=  0, user_b=  1 (difference:-1)\n",
      "let            : user_a=  0, user_b=  1 (difference:-1)\n",
      "damn           : user_a=  0, user_b=  1 (difference:-1)\n",
      "ethnically     : user_a=  0, user_b=  1 (difference:-1)\n",
      "can            : user_a=  1, user_b=  2 (difference:-1)\n",
      "oh             : user_a=  0, user_b=  1 (difference:-1)\n",
      "same           : user_a=  0, user_b=  1 (difference:-1)\n",
      "look           : user_a=  0, user_b=  1 (difference:-1)\n",
      "or             : user_a=  1, user_b=  2 (difference:-1)\n",
      "someone        : user_a=  0, user_b=  1 (difference:-1)\n",
      "right          : user_a=  0, user_b=  1 (difference:-1)\n",
      "those          : user_a=  0, user_b=  1 (difference:-1)\n",
      "sweet          : user_a=  0, user_b=  1 (difference:-1)\n",
      "contributing   : user_a=  0, user_b=  1 (difference:-1)\n",
      "failing        : user_a=  0, user_b=  1 (difference:-1)\n",
      "short          : user_a=  0, user_b=  1 (difference:-1)\n",
      "to             : user_a=  4, user_b=  5 (difference:-1)\n",
      "self           : user_a=  0, user_b=  1 (difference:-1)\n",
      "gestapo        : user_a=  0, user_b=  1 (difference:-1)\n",
      "worst          : user_a=  0, user_b=  1 (difference:-1)\n",
      "concept        : user_a=  0, user_b=  1 (difference:-1)\n",
      "time           : user_a=  0, user_b=  1 (difference:-1)\n",
      "up             : user_a=  0, user_b=  1 (difference:-1)\n",
      "actually       : user_a=  0, user_b=  1 (difference:-1)\n",
      "wording        : user_a=  0, user_b=  1 (difference:-1)\n",
      "last           : user_a=  0, user_b=  1 (difference:-1)\n",
      "dentention     : user_a=  0, user_b=  1 (difference:-1)\n",
      "trying         : user_a=  0, user_b=  1 (difference:-1)\n",
      "contrarians    : user_a=  0, user_b=  1 (difference:-1)\n",
      "american       : user_a=  0, user_b=  1 (difference:-1)\n",
      "made           : user_a=  0, user_b=  1 (difference:-1)\n",
      "still          : user_a=  1, user_b=  2 (difference:-1)\n",
      "person         : user_a=  0, user_b=  1 (difference:-1)\n",
      "immigrants     : user_a=  0, user_b=  1 (difference:-1)\n",
      "mine           : user_a=  0, user_b=  1 (difference:-1)\n",
      "gas            : user_a=  0, user_b=  1 (difference:-1)\n",
      "enforcement    : user_a=  0, user_b=  1 (difference:-1)\n",
      "mind           : user_a=  0, user_b=  1 (difference:-1)\n",
      "real           : user_a=  0, user_b=  1 (difference:-1)\n",
      "learn          : user_a=  0, user_b=  1 (difference:-1)\n",
      "an             : user_a=  0, user_b=  1 (difference:-1)\n",
      "about          : user_a=  1, user_b=  2 (difference:-1)\n",
      "excuse         : user_a=  0, user_b=  1 (difference:-1)\n",
      "now            : user_a=  0, user_b=  1 (difference:-1)\n",
      "going          : user_a=  0, user_b=  1 (difference:-1)\n",
      "semantics      : user_a=  0, user_b=  2 (difference:-2)\n",
      "for            : user_a=  1, user_b=  3 (difference:-2)\n",
      "21st           : user_a=  0, user_b=  2 (difference:-2)\n",
      "on             : user_a=  0, user_b=  2 (difference:-2)\n",
      "good           : user_a=  0, user_b=  2 (difference:-2)\n",
      "high           : user_a=  0, user_b=  2 (difference:-2)\n",
      "me             : user_a=  0, user_b=  2 (difference:-2)\n",
      "cunt           : user_a=  0, user_b=  2 (difference:-2)\n",
      "african        : user_a=  0, user_b=  2 (difference:-2)\n",
      "doesn          : user_a=  0, user_b=  2 (difference:-2)\n",
      "non            : user_a=  0, user_b=  2 (difference:-2)\n",
      "from           : user_a=  0, user_b=  2 (difference:-2)\n",
      "all            : user_a=  1, user_b=  3 (difference:-2)\n",
      "detained       : user_a=  0, user_b=  2 (difference:-2)\n",
      "own            : user_a=  0, user_b=  2 (difference:-2)\n",
      "camps          : user_a=  0, user_b=  2 (difference:-2)\n",
      "off            : user_a=  0, user_b=  2 (difference:-2)\n",
      "this           : user_a=  0, user_b=  2 (difference:-2)\n",
      "think          : user_a=  0, user_b=  2 (difference:-2)\n",
      "us             : user_a=  0, user_b=  2 (difference:-2)\n",
      "concentration  : user_a=  0, user_b=  2 (difference:-2)\n",
      "comments       : user_a=  0, user_b=  2 (difference:-2)\n",
      "yours          : user_a=  0, user_b=  2 (difference:-2)\n",
      "with           : user_a=  1, user_b=  3 (difference:-2)\n",
      "tell           : user_a=  0, user_b=  2 (difference:-2)\n",
      "thing          : user_a=  0, user_b=  2 (difference:-2)\n",
      "here           : user_a=  0, user_b=  2 (difference:-2)\n",
      "say            : user_a=  0, user_b=  2 (difference:-2)\n",
      "ll             : user_a=  0, user_b=  2 (difference:-2)\n",
      "my             : user_a=  1, user_b=  3 (difference:-2)\n",
      "it             : user_a=  2, user_b=  5 (difference:-3)\n",
      "people         : user_a=  0, user_b=  3 (difference:-3)\n",
      "hispanics      : user_a=  0, user_b=  3 (difference:-3)\n",
      "but            : user_a=  0, user_b=  3 (difference:-3)\n",
      "some           : user_a=  0, user_b=  3 (difference:-3)\n",
      "have           : user_a=  0, user_b=  3 (difference:-3)\n",
      "again          : user_a=  0, user_b=  3 (difference:-3)\n",
      "deleted        : user_a=  0, user_b=  3 (difference:-3)\n",
      "technically    : user_a=  0, user_b=  3 (difference:-3)\n",
      "if             : user_a=  0, user_b=  3 (difference:-3)\n",
      "m              : user_a=  0, user_b=  3 (difference:-3)\n",
      "how            : user_a=  0, user_b=  3 (difference:-3)\n",
      "be             : user_a=  1, user_b=  5 (difference:-4)\n",
      "t              : user_a=  2, user_b=  7 (difference:-5)\n",
      "wrong          : user_a=  0, user_b=  5 (difference:-5)\n",
      "just           : user_a=  0, user_b=  5 (difference:-5)\n",
      "is             : user_a=  0, user_b=  5 (difference:-5)\n",
      "s              : user_a=  0, user_b=  5 (difference:-5)\n",
      "they           : user_a=  2, user_b=  7 (difference:-5)\n",
      "issue          : user_a=  0, user_b=  5 (difference:-5)\n",
      "your           : user_a=  0, user_b=  5 (difference:-5)\n",
      "yeah           : user_a=  0, user_b=  5 (difference:-5)\n",
      "that           : user_a=  1, user_b=  8 (difference:-7)\n",
      "i              : user_a=  2, user_b=  9 (difference:-7)\n",
      "re             : user_a=  0, user_b=  7 (difference:-7)\n",
      "being          : user_a=  0, user_b=  7 (difference:-7)\n",
      "white          : user_a=  0, user_b=  8 (difference:-8)\n",
      "are            : user_a=  0, user_b=  8 (difference:-8)\n",
      "a              : user_a=  0, user_b=  9 (difference:-9)\n",
      "you            : user_a=  2, user_b= 15 (difference:-13)\n"
     ]
    }
   ],
   "source": [
    "def UnionDifferences(a,b):\n",
    "    \n",
    "    def SortByFrequency(i):\n",
    "        return(a[i]-b[i])\n",
    "    \n",
    "    def SortByUsageOfA(i):\n",
    "        return(a[i])\n",
    "    \n",
    "    union = set(a).union(set(b))\n",
    "    union_list = list(union)\n",
    "    #intersection_list.sort(key=SortByUsageOfA,reverse=True)\n",
    "    union_list.sort(key=SortByFrequency,reverse=True)\n",
    "    \n",
    "    for key in union_list:\n",
    "        print(\"{:15s}: user_a={:3}, user_b={:3} (difference:{:2})\".format(key,a[key],b[key],SortByFrequency(key)))\n",
    "\n",
    "UnionDifferences(animetitties_user_dogmodoga,animetitties_user_lonliestmonroni)                  "
   ]
  },
  {
   "cell_type": "code",
   "execution_count": null,
   "metadata": {},
   "outputs": [],
   "source": []
  },
  {
   "cell_type": "markdown",
   "metadata": {},
   "source": [
    "#### Wordcount comparer"
   ]
  },
  {
   "cell_type": "code",
   "execution_count": null,
   "metadata": {},
   "outputs": [],
   "source": [
    "# TODO\n",
    "\"\"\"see AnalysisClasses.EmbeddingComparer and modify\"\"\"\n"
   ]
  },
  {
   "cell_type": "code",
   "execution_count": null,
   "metadata": {},
   "outputs": [],
   "source": []
  }
 ],
 "metadata": {
  "kernelspec": {
   "display_name": "Python 3",
   "language": "python",
   "name": "python3"
  },
  "language_info": {
   "codemirror_mode": {
    "name": "ipython",
    "version": 3
   },
   "file_extension": ".py",
   "mimetype": "text/x-python",
   "name": "python",
   "nbconvert_exporter": "python",
   "pygments_lexer": "ipython3",
   "version": "3.7.0"
  }
 },
 "nbformat": 4,
 "nbformat_minor": 4
}
