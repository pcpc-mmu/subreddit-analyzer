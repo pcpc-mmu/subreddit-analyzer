{
 "cells": [
  {
   "cell_type": "code",
   "execution_count": 1,
   "metadata": {},
   "outputs": [],
   "source": [
    "import pandas as pd\n",
    "import re\n",
    "\n",
    "import time"
   ]
  },
  {
   "cell_type": "markdown",
   "metadata": {},
   "source": [
    "Done:\n",
    "- Scraping reddit to CSV\n",
    "- CSV to Pandas Dataframe\n",
    "\n",
    "\n",
    "- Run SentimentGrapher on Dataframe\n",
    "- Run WordCounter on Dataframe\n",
    "\n",
    "\n",
    "\n",
    "ToDo:\n",
    "- (Put DataframeExtractor in AnalysisClass instead of outside loop?)\n",
    "- Make DataframeExtractor column_value accept regex queries rather than just a value - DONE \n",
    "- Modify EmbeddingComparer to see most quintessential wordcounts (and not replicate Scattertext?)\n"
   ]
  },
  {
   "cell_type": "markdown",
   "metadata": {},
   "source": [
    "### Scraping Reddit"
   ]
  },
  {
   "cell_type": "code",
   "execution_count": 2,
   "metadata": {},
   "outputs": [],
   "source": [
    "subs = [\"worldpolitics\", \"anime_titties\"]\n",
    "#maxs = 1000 # I LITERALLY TRIED FOR HOURS TO HAVE THIS NOT HARD CODED DEAR GOD PLEASE HELP ME #TODO"
   ]
  },
  {
   "cell_type": "code",
   "execution_count": 3,
   "metadata": {},
   "outputs": [],
   "source": [
    "# %run scripts/Submissions_edit.py \n",
    "# %run scripts/Comments_edit.py\n",
    "\n",
    "# submissioninit(subs)\n",
    "# commentsinit(subs)"
   ]
  },
  {
   "cell_type": "code",
   "execution_count": null,
   "metadata": {},
   "outputs": [
    {
     "name": "stdout",
     "output_type": "stream",
     "text": [
      "Max submissions set to 25000\n",
      "Downloading: worldpolitics\n",
      "Downloading: 99 submissions\n",
      "Downloading: 99 submissions\n",
      "Downloading: 99 submissions\n",
      "Downloading: 99 submissions\n",
      "Downloading: 99 submissions\n",
      "Downloading: 99 submissions\n",
      "Downloading: 99 submissions\n",
      "Downloading: 99 submissions\n",
      "Downloading: 99 submissions\n",
      "Downloading: 99 submissions\n",
      "Downloading: 99 submissions\n",
      "Downloading: 99 submissions\n",
      "Downloading: 99 submissions\n",
      "Downloading: 99 submissions\n",
      "Downloading: 99 submissions\n",
      "Downloading: 99 submissions\n",
      "Downloading: 99 submissions\n",
      "Downloading: 99 submissions\n",
      "Downloading: 99 submissions\n",
      "Downloading: 99 submissions\n",
      "Downloading: 99 submissions\n",
      "Downloading: 99 submissions\n",
      "Downloading: 99 submissions\n",
      "Downloading: 99 submissions\n",
      "Downloading: 99 submissions\n",
      "Downloading: 99 submissions\n",
      "Downloading: 99 submissions\n",
      "Downloading: 99 submissions\n",
      "Downloading: 99 submissions\n",
      "Downloading: 99 submissions\n",
      "Downloading: 99 submissions\n",
      "Downloading: 99 submissions\n",
      "Downloading: 99 submissions\n",
      "Downloading: 99 submissions\n",
      "Downloading: 99 submissions\n",
      "Downloading: 99 submissions\n",
      "Downloading: 99 submissions\n",
      "Downloading: 99 submissions\n",
      "Downloading: 99 submissions\n",
      "Downloading: 99 submissions\n",
      "Downloading: 99 submissions\n",
      "Downloading: 99 submissions\n",
      "Downloading: 99 submissions\n",
      "Downloading: 99 submissions\n",
      "Downloading: 99 submissions\n",
      "Downloading: 99 submissions\n",
      "Downloading: 99 submissions\n",
      "Downloading: 99 submissions\n",
      "Downloading: 99 submissions\n",
      "Downloading: 99 submissions\n",
      "Downloading: 99 submissions\n",
      "Downloading: 99 submissions\n",
      "Downloading: 99 submissions\n",
      "Downloading: 99 submissions\n",
      "Downloading: 99 submissions\n",
      "Downloading: 99 submissions\n",
      "Downloading: 99 submissions\n",
      "Downloading: 99 submissions\n",
      "Downloading: 99 submissions\n",
      "Downloading: 99 submissions\n",
      "Downloading: 99 submissions\n",
      "Downloading: 99 submissions\n",
      "Downloading: 99 submissions\n",
      "Downloading: 99 submissions\n",
      "Downloading: 99 submissions\n",
      "Downloading: 99 submissions\n",
      "Downloading: 99 submissions\n",
      "Downloading: 99 submissions\n",
      "Downloading: 99 submissions\n",
      "Downloading: 99 submissions\n",
      "Downloading: 99 submissions\n",
      "Downloading: 99 submissions\n",
      "Downloading: 99 submissions\n",
      "Downloading: 99 submissions\n",
      "Downloading: 99 submissions\n",
      "Downloading: 99 submissions\n",
      "Downloading: 99 submissions\n",
      "Downloading: 99 submissions\n",
      "Downloading: 99 submissions\n",
      "Downloading: 99 submissions\n",
      "Downloading: 99 submissions\n",
      "Downloading: 99 submissions\n",
      "Downloading: 99 submissions\n",
      "Downloading: 99 submissions\n",
      "Downloading: 99 submissions\n",
      "Downloading: 99 submissions\n",
      "Downloading: 99 submissions\n",
      "Downloading: 99 submissions\n",
      "Downloading: 99 submissions\n",
      "Downloading: 99 submissions\n",
      "Downloading: 99 submissions\n",
      "Downloading: 99 submissions\n",
      "Downloading: 99 submissions\n",
      "Downloading: 99 submissions\n",
      "Downloading: 99 submissions\n",
      "Downloading: 99 submissions\n",
      "Downloading: 99 submissions\n",
      "Downloading: 99 submissions\n",
      "Downloading: 99 submissions\n",
      "Downloading: 99 submissions\n",
      "Downloading: 99 submissions\n",
      "Downloading: 99 submissions\n",
      "Downloading: 99 submissions\n",
      "Downloading: 99 submissions\n",
      "Downloading: 99 submissions\n",
      "Downloading: 99 submissions\n",
      "Downloading: 99 submissions\n",
      "Downloading: 99 submissions\n",
      "Downloading: 99 submissions\n",
      "Downloading: 99 submissions\n",
      "Downloading: 99 submissions\n",
      "Downloading: 99 submissions\n",
      "Downloading: 99 submissions\n",
      "Downloading: 99 submissions\n",
      "Downloading: 99 submissions\n",
      "Downloading: 99 submissions\n",
      "Downloading: 99 submissions\n",
      "Downloading: 99 submissions\n",
      "Downloading: 99 submissions\n",
      "Downloading: 99 submissions\n",
      "Downloading: 99 submissions\n",
      "Downloading: 99 submissions\n",
      "Downloading: 99 submissions\n",
      "Downloading: 99 submissions\n",
      "Downloading: 99 submissions\n",
      "Downloading: 99 submissions\n",
      "Downloading: 99 submissions\n",
      "Downloading: 99 submissions\n",
      "Downloading: 99 submissions\n",
      "Downloading: 99 submissions\n",
      "Downloading: 99 submissions\n",
      "Downloading: 99 submissions\n",
      "Downloading: 99 submissions\n",
      "Downloading: 99 submissions\n",
      "Downloading: 99 submissions\n",
      "Downloading: 99 submissions\n",
      "Downloading: 99 submissions\n",
      "Downloading: 99 submissions\n",
      "Downloading: 99 submissions\n",
      "Downloading: 99 submissions\n",
      "Downloading: 99 submissions\n",
      "Downloading: 99 submissions\n",
      "Downloading: 99 submissions\n",
      "Downloading: 99 submissions\n",
      "Downloading: 99 submissions\n",
      "Downloading: 99 submissions\n",
      "Downloading: 99 submissions\n",
      "Downloading: 99 submissions\n",
      "Downloading: 99 submissions\n",
      "Downloading: 99 submissions\n",
      "Downloading: 99 submissions\n",
      "Downloading: 99 submissions\n",
      "Downloading: 99 submissions\n",
      "Downloading: 99 submissions\n",
      "Downloading: 99 submissions\n",
      "Downloading: 99 submissions\n",
      "Downloading: 99 submissions\n",
      "Downloading: 99 submissions\n",
      "Downloading: 99 submissions\n",
      "Downloading: 99 submissions\n",
      "Downloading: 99 submissions\n",
      "Downloading: 99 submissions\n",
      "Downloading: 99 submissions\n",
      "Downloading: 99 submissions\n",
      "Downloading: 99 submissions\n",
      "Downloading: 99 submissions\n",
      "Downloading: 99 submissions\n",
      "Downloading: 99 submissions\n",
      "Downloading: 99 submissions\n",
      "Downloading: 99 submissions\n",
      "Downloading: 99 submissions\n"
     ]
    }
   ],
   "source": [
    "%run scripts/Submissions_edit.py 25000\n",
    "# %run scripts/Comments_edit.py 2000\n",
    "\n",
    "submissioninit(subs)\n",
    "# commentsinit(subs)"
   ]
  },
  {
   "cell_type": "code",
   "execution_count": 5,
   "metadata": {},
   "outputs": [],
   "source": [
    "#%run scripts/Comments_edit.py 2000  # OLD?\n",
    "#commentsinit(subs)\n",
    "\n",
    "### WHY ARE THERE SUDDENLY ONLY A 100 COMMENTS?"
   ]
  },
  {
   "cell_type": "code",
   "execution_count": null,
   "metadata": {},
   "outputs": [],
   "source": []
  },
  {
   "cell_type": "code",
   "execution_count": null,
   "metadata": {},
   "outputs": [],
   "source": []
  },
  {
   "cell_type": "code",
   "execution_count": 6,
   "metadata": {},
   "outputs": [],
   "source": [
    "#subs = [\"learnpython\", \"askreddit\"]\n",
    "\n",
    "#%run scripts/Submissions_edit.py 25000\n",
    "#%run scripts/Comments_edit.py 2000 \n",
    "\n",
    "#submissioninit(subs)\n",
    "#commentsinit(subs)\n"
   ]
  },
  {
   "cell_type": "code",
   "execution_count": null,
   "metadata": {},
   "outputs": [],
   "source": []
  },
  {
   "cell_type": "code",
   "execution_count": 10,
   "metadata": {},
   "outputs": [],
   "source": [
    "%run code/AnalysisClasses.py\n",
    "\n",
    "def CSVtoDF(subreddit, contenttype):\n",
    "    submissions = pd.read_csv(\"csvs/\" + subreddit + \"-submissions.csv\") \n",
    "    comments = pd.read_csv(\"csvs/\" + subreddit + \"-comments.csv\")\n",
    "    if contenttype == 'comments':\n",
    "        return comments\n",
    "    if contenttype == 'submissions':\n",
    "        return submissions"
   ]
  },
  {
   "cell_type": "code",
   "execution_count": null,
   "metadata": {},
   "outputs": [],
   "source": []
  },
  {
   "cell_type": "code",
   "execution_count": 11,
   "metadata": {},
   "outputs": [],
   "source": [
    "worldpolitics_submissions = CSVtoDF('worldpolitics', 'submissions')\n",
    "worldpolitics_comments = CSVtoDF('worldpolitics', 'comments')\n",
    "anime_titties_submissions = CSVtoDF('anime_titties', 'submissions')\n",
    "anime_titties_comments = CSVtoDF('anime_titties', 'comments')"
   ]
  },
  {
   "cell_type": "code",
   "execution_count": 12,
   "metadata": {},
   "outputs": [
    {
     "name": "stdout",
     "output_type": "stream",
     "text": [
      "                 datetime            author  \\\n",
      "0     2020-07-22 16:56:34            nomull   \n",
      "1     2020-07-22 16:56:11            nomull   \n",
      "2     2020-07-22 16:55:53       breadgod_AJ   \n",
      "3     2020-07-22 16:52:42   HadSomeTraining   \n",
      "4     2020-07-22 16:51:43       AbsoluteYes   \n",
      "...                   ...               ...   \n",
      "4995  2020-07-20 00:33:44  AtrociousAtNames   \n",
      "4996  2020-07-20 00:32:43  thetitanofworlds   \n",
      "4997  2020-07-20 00:29:37        leeg-hoofd   \n",
      "4998  2020-07-20 00:28:36     CaptnFlounder   \n",
      "4999  2020-07-20 00:27:58     French-dudev2   \n",
      "\n",
      "                                                   body  \n",
      "0          It’s straight up some cock and balls my dude  \n",
      "1     So you’re telling me that you need a new eyegl...  \n",
      "2                   i guess the sub is back to porn lol  \n",
      "3     At the store where they sell things for you to...  \n",
      "4     Disgusting. This should be illegal. Go to \"mak...  \n",
      "...                                                 ...  \n",
      "4995                                       Any updates?  \n",
      "4996  The only thought that comes to mind when readi...  \n",
      "4997                       also: wired nipple piercings  \n",
      "4998         Not against titties, I'm for the Republic.  \n",
      "4999                                               Nice  \n",
      "\n",
      "[5000 rows x 3 columns]\n"
     ]
    }
   ],
   "source": [
    "print(worldpolitics_comments)\n"
   ]
  },
  {
   "cell_type": "code",
   "execution_count": 13,
   "metadata": {},
   "outputs": [
    {
     "name": "stdout",
     "output_type": "stream",
     "text": [
      "min date is time.struct_time(tm_year=2020, tm_mon=7, tm_mday=2, tm_hour=0, tm_min=0, tm_sec=0, tm_wday=3, tm_yday=184, tm_isdst=-1)\n"
     ]
    }
   ],
   "source": [
    "%run code/AnalysisClasses.py\n",
    "worldpolitics_comments = AnalysisClasses.DateFilterADF(dataframe=worldpolitics_comments, min_date=\"2020-07-02 00:00:00\")"
   ]
  },
  {
   "cell_type": "code",
   "execution_count": 14,
   "metadata": {},
   "outputs": [
    {
     "name": "stdout",
     "output_type": "stream",
     "text": [
      "                 datetime            author  \\\n",
      "0     2020-07-22 16:56:34            nomull   \n",
      "1     2020-07-22 16:56:11            nomull   \n",
      "2     2020-07-22 16:55:53       breadgod_AJ   \n",
      "3     2020-07-22 16:52:42   HadSomeTraining   \n",
      "4     2020-07-22 16:51:43       AbsoluteYes   \n",
      "...                   ...               ...   \n",
      "4995  2020-07-20 00:33:44  AtrociousAtNames   \n",
      "4996  2020-07-20 00:32:43  thetitanofworlds   \n",
      "4997  2020-07-20 00:29:37        leeg-hoofd   \n",
      "4998  2020-07-20 00:28:36     CaptnFlounder   \n",
      "4999  2020-07-20 00:27:58     French-dudev2   \n",
      "\n",
      "                                                   body  \n",
      "0          It’s straight up some cock and balls my dude  \n",
      "1     So you’re telling me that you need a new eyegl...  \n",
      "2                   i guess the sub is back to porn lol  \n",
      "3     At the store where they sell things for you to...  \n",
      "4     Disgusting. This should be illegal. Go to \"mak...  \n",
      "...                                                 ...  \n",
      "4995                                       Any updates?  \n",
      "4996  The only thought that comes to mind when readi...  \n",
      "4997                       also: wired nipple piercings  \n",
      "4998         Not against titties, I'm for the Republic.  \n",
      "4999                                               Nice  \n",
      "\n",
      "[5000 rows x 3 columns]\n"
     ]
    }
   ],
   "source": [
    "print(worldpolitics_comments)"
   ]
  },
  {
   "cell_type": "markdown",
   "metadata": {},
   "source": [
    "### Analyzing reddit"
   ]
  },
  {
   "cell_type": "markdown",
   "metadata": {},
   "source": [
    "#### Selecting a column + column value"
   ]
  },
  {
   "cell_type": "code",
   "execution_count": 15,
   "metadata": {},
   "outputs": [
    {
     "name": "stdout",
     "output_type": "stream",
     "text": [
      "                 datetime         author  \\\n",
      "376   2020-07-22 09:16:12  AutoModerator   \n",
      "385   2020-07-22 09:12:59  AutoModerator   \n",
      "1032  2020-07-22 03:29:30  AutoModerator   \n",
      "2959  2020-07-21 03:07:27  AutoModerator   \n",
      "4454  2020-07-20 08:46:42  AutoModerator   \n",
      "4859  2020-07-20 04:02:14  AutoModerator   \n",
      "\n",
      "                                                   body  \n",
      "376   We do not currently accept submissions from ne...  \n",
      "385   We do not currently accept submissions from ne...  \n",
      "1032  We do not currently accept submissions from ne...  \n",
      "2959  We do not currently accept submissions from ne...  \n",
      "4454  We do not currently accept submissions from ne...  \n",
      "4859  We do not currently accept submissions from ne...  \n"
     ]
    }
   ],
   "source": [
    "%run code/AnalysisClasses.py\n",
    "\n",
    "#AutoModerator = DataframeExtractor(worldpolitics_comments, 'author', ['AutoModerator'])\n",
    "#AutoModerator = DataframeExtractor(worldpolitics_comments, 'author', ['AutoModerator'], textonly=\"yes\")\n",
    "multipleauthors = DataframeExtractor(dataframe=worldpolitics_comments, column='author', columnvalue=['AutoModerator', 'LordJohnStark', 'PrimalMusk'])\n",
    "print(multipleauthors)\n",
    "\n",
    "#wp_com_2020 = AnalysisClasses.DataframeExtractor(worldpolitics_comments, 'datetime') # TODO filter for time etc"
   ]
  },
  {
   "cell_type": "markdown",
   "metadata": {},
   "source": [
    "#### Integrating that with Sentiment Analysis"
   ]
  },
  {
   "cell_type": "code",
   "execution_count": 16,
   "metadata": {},
   "outputs": [
    {
     "data": {
      "image/png": "[encoded data removed]",
      "text/plain": [
       "<Figure size 432x288 with 1 Axes>"
      ]
     },
     "metadata": {
      "needs_background": "light"
     },
     "output_type": "display_data"
    },
    {
     "data": {
      "text/plain": [
       "<Figure size 432x288 with 0 Axes>"
      ]
     },
     "metadata": {},
     "output_type": "display_data"
    }
   ],
   "source": [
    "#TODO DataframeExtractor in same class?\n",
    "%run code/AnalysisClasses.py\n",
    "\n",
    "#sen = AnalysisClasses.SentimentGrapher(dataframe=worldpolitics_comments, column='author', column_value=(['AutoModerator', 'LordJohnStark', 'PrimalMusk']))\n",
    "sen = AnalysisClasses.SentimentGrapher(dataframe=worldpolitics_comments, column='author', column_value=(['AutoModerator', 'LordJohnStark', 'PrimalMusk']), plotname='plots/sentiment_author_trial', plotkind='bar')\n",
    "#print(sen)"
   ]
  },
  {
   "cell_type": "code",
   "execution_count": 17,
   "metadata": {},
   "outputs": [],
   "source": [
    "# worldpolitics_comments_20200702 = AnalysisClasses.DateFilterADF(dataframe=worldpolitics_comments, min_date=\"2020-07-02 00:00:00\")\n",
    "\n",
    "# start = time.strptime(our_date, \"%Y-%m-%d %H:%M:%S\" )\n",
    "# week_start_day = int( ( time.tm_yday - time.tm_wday ) / 7 )\n",
    "# time.tm_yday = week_start_day * 7\n",
    "# time.tm_wday = 0\n",
    "# end = time(start)\n",
    "# end = end.timedelta(days=7)"
   ]
  },
  {
   "cell_type": "code",
   "execution_count": 18,
   "metadata": {},
   "outputs": [
    {
     "name": "stdout",
     "output_type": "stream",
     "text": [
      "2020-07-23 12:34:26.741961\n",
      "2020-08-06 12:34:26.741961\n"
     ]
    }
   ],
   "source": [
    "today = datetime.today()\n",
    "print(today)\n",
    "\n",
    "from datetime import timedelta\n",
    "intwoweeks = today + timedelta(weeks=2)\n",
    "print(intwoweeks)\n",
    "#today_week = today.timedelta(weeks)\n",
    "\n",
    "#twoweekdifference = \n",
    "# @TODO"
   ]
  },
  {
   "cell_type": "code",
   "execution_count": 19,
   "metadata": {},
   "outputs": [
    {
     "name": "stdout",
     "output_type": "stream",
     "text": [
      "min date is time.struct_time(tm_year=2019, tm_mon=7, tm_mday=2, tm_hour=0, tm_min=0, tm_sec=0, tm_wday=1, tm_yday=183, tm_isdst=-1)\n"
     ]
    },
    {
     "data": {
      "image/png": "[encoded data removed]",
      "text/plain": [
       "<Figure size 432x288 with 1 Axes>"
      ]
     },
     "metadata": {
      "needs_background": "light"
     },
     "output_type": "display_data"
    },
    {
     "name": "stdout",
     "output_type": "stream",
     "text": [
      "          author   neg_avg   neu_avg   pos_avg\n",
      "0  AutoModerator  0.101000  0.835000  0.064000\n",
      "0  LordJohnStark  0.050500  0.417500  0.032000\n",
      "0     PrimalMusk  0.033667  0.278333  0.021333\n"
     ]
    },
    {
     "data": {
      "text/plain": [
       "<Figure size 432x288 with 0 Axes>"
      ]
     },
     "metadata": {},
     "output_type": "display_data"
    }
   ],
   "source": [
    "%run code/AnalysisClasses.py\n",
    "sen = AnalysisClasses.SentimentGrapher(dataframe=AnalysisClasses.DateFilterADF(worldpolitics_comments,min_date=\"2019-07-02 00:00:00\"), column='author', column_value=(['AutoModerator', 'LordJohnStark', 'PrimalMusk']), plotname='plots/sentiment_author_trial', plotkind='bar')\n",
    "\n",
    "print(sen)"
   ]
  },
  {
   "cell_type": "code",
   "execution_count": null,
   "metadata": {},
   "outputs": [],
   "source": []
  },
  {
   "cell_type": "markdown",
   "metadata": {},
   "source": [
    "#### Wordcount test"
   ]
  },
  {
   "cell_type": "code",
   "execution_count": 38,
   "metadata": {},
   "outputs": [
    {
     "ename": "SyntaxError",
     "evalue": "invalid syntax (<ipython-input-38-69d4de88de9a>, line 7)",
     "output_type": "error",
     "traceback": [
      "\u001b[0;36m  File \u001b[0;32m\"<ipython-input-38-69d4de88de9a>\"\u001b[0;36m, line \u001b[0;32m7\u001b[0m\n\u001b[0;31m    animetitties_users[i] = AnalysisClasses.WordCounter(dataframe=anime_titties_comments, column='author', column_value=[i])\u001b[0m\n\u001b[0m                     ^\u001b[0m\n\u001b[0;31mSyntaxError\u001b[0m\u001b[0;31m:\u001b[0m invalid syntax\n"
     ]
    }
   ],
   "source": [
    "%run code/AnalysisClasses.py\n",
    "users_to_examine = [\"bob\"]\n",
    "animetitties_users = []\n",
    "\n",
    "for i in users_to_examine:\n",
    "    print(\"i is {}, a {}\".format(i,type(i))\n",
    "    animetitties_users[i] = AnalysisClasses.WordCounter(dataframe=anime_titties_comments, column='author', column_value=[i])\n",
    "\n",
    "print(animetitties_users.keys())"
   ]
  },
  {
   "cell_type": "code",
   "execution_count": null,
   "metadata": {},
   "outputs": [],
   "source": []
  },
  {
   "cell_type": "code",
   "execution_count": null,
   "metadata": {},
   "outputs": [],
   "source": [
    "print(animetitties_user_dogmodoga - animetitties_user_lonliestmonroni)"
   ]
  },
  {
   "cell_type": "code",
   "execution_count": null,
   "metadata": {},
   "outputs": [],
   "source": [
    "print(animetitties_user_lonliestmonroni - animetitties_user_dogmodoga)"
   ]
  },
  {
   "cell_type": "code",
   "execution_count": null,
   "metadata": {
    "scrolled": true
   },
   "outputs": [],
   "source": [
    "def IntersectionalDifferences(a,b):\n",
    "    \n",
    "    def SortByFrequency(i):\n",
    "        return(a[i]-b[i])\n",
    "    \n",
    "    def SortByUsageOfA(i):\n",
    "        return(a[i])\n",
    "    \n",
    "    intersection = set(a).intersection(set(b))\n",
    "    intersection_list = list(intersection)\n",
    "    #intersection_list.sort(key=SortByUsageOfA,reverse=True)\n",
    "    intersection_list.sort(key=SortByFrequency,reverse=True)\n",
    "    \n",
    "    for key in intersection_list:\n",
    "        print(\"{:15s}: user_a={:3}, user_b={:3} (difference:{:2})\".format(key,a[key],b[key],SortByFrequency(key)))\n",
    "                           \n",
    "IntersectionalDifferences(animetitties_user_dogmodoga,animetitties_user_lonliestmonroni)                  "
   ]
  },
  {
   "cell_type": "code",
   "execution_count": null,
   "metadata": {},
   "outputs": [],
   "source": [
    "def Differences(a,b):\n",
    "    \n",
    "    def SortByFrequency(i):\n",
    "        try:\n",
    "            return(a[i]-b[i])\n",
    "        except e:\n",
    "            return 0\n",
    "    \n",
    "    def SortByUsageOfA(i):\n",
    "        return(a[i])\n",
    "    \n",
    "    difference = set(a).difference(set(b))\n",
    "    difference_list = list(difference)\n",
    "    \n",
    "    AButNotBPlusAAndB = (difference_list + intersection_list)\n",
    "    AButNotBPlusAAndB.sort(key=SortByFrequency,reverse=True)\n",
    "\n",
    "    for key in AButNotBPlusAAndB:\n",
    "        print(\"{:15s}: user_a={:3}, user_b={:3} (difference:{:2})\".format(key,a[key],b[key],SortByFrequency(key)))\n",
    "                           \n",
    "Differences(animetitties_user_dogmodoga,animetitties_user_lonliestmonroni)"
   ]
  },
  {
   "cell_type": "code",
   "execution_count": null,
   "metadata": {},
   "outputs": [],
   "source": [
    "# Correlation (both)\n",
    "\n",
    "def UnionDifferences(a,b):\n",
    "    \n",
    "    def SortByFrequency(i):\n",
    "        return(a[i]-b[i])\n",
    "    \n",
    "    def SortByUsageOfA(i):\n",
    "        return(a[i])\n",
    "    \n",
    "    union = set(a).union(set(b))\n",
    "    union_list = list(union)\n",
    "    #intersection_list.sort(key=SortByUsageOfA,reverse=True)\n",
    "    union_list.sort(key=SortByFrequency,reverse=True)\n",
    "    \n",
    "    update_union_list = {}\n",
    "    for key in union_list:\n",
    "        update_union_list[key]={\"a\":a[key],\"b\":b[key],\"f\":SortByFrequency(key)}\n",
    "        print(\"{:15s}: user_a={:3}, user_b={:3} (difference:{:2})\".format(key,a[key],b[key],SortByFrequency(key)))\n",
    "    return update_union_list\n",
    "\n",
    "union_list = UnionDifferences(animetitties_user_dogmodoga,animetitties_user_lonliestmonroni)                  "
   ]
  },
  {
   "cell_type": "code",
   "execution_count": null,
   "metadata": {},
   "outputs": [],
   "source": [
    "print(union_list)"
   ]
  },
  {
   "cell_type": "markdown",
   "metadata": {},
   "source": [
    "#### Wordcount comparer"
   ]
  },
  {
   "cell_type": "code",
   "execution_count": null,
   "metadata": {},
   "outputs": [],
   "source": [
    "# TODO\n",
    "\"\"\"see AnalysisClasses.EmbeddingComparer and modify\"\"\"\n"
   ]
  },
  {
   "cell_type": "code",
   "execution_count": null,
   "metadata": {},
   "outputs": [],
   "source": [
    "anime_titties_submissions"
   ]
  },
  {
   "cell_type": "code",
   "execution_count": null,
   "metadata": {},
   "outputs": [],
   "source": []
  },
  {
   "cell_type": "code",
   "execution_count": null,
   "metadata": {},
   "outputs": [],
   "source": []
  },
  {
   "cell_type": "code",
   "execution_count": null,
   "metadata": {},
   "outputs": [],
   "source": []
  },
  {
   "cell_type": "code",
   "execution_count": null,
   "metadata": {},
   "outputs": [],
   "source": []
  }
 ],
 "metadata": {
  "kernelspec": {
   "display_name": "Python 3",
   "language": "python",
   "name": "python3"
  },
  "language_info": {
   "codemirror_mode": {
    "name": "ipython",
    "version": 3
   },
   "file_extension": ".py",
   "mimetype": "text/x-python",
   "name": "python",
   "nbconvert_exporter": "python",
   "pygments_lexer": "ipython3",
   "version": "3.7.0"
  }
 },
 "nbformat": 4,
 "nbformat_minor": 4
}
