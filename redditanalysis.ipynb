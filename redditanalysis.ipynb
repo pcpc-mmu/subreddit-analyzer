{
 "cells": [
  {
   "cell_type": "code",
   "execution_count": 10,
   "metadata": {},
   "outputs": [],
   "source": [
    "import pandas as pd\n",
    "import re\n",
    "\n",
    "import time"
   ]
  },
  {
   "cell_type": "markdown",
   "metadata": {},
   "source": [
    "Done:\n",
    "- Scraping reddit to CSV\n",
    "- CSV to Pandas Dataframe\n",
    "\n",
    "\n",
    "- Run SentimentGrapher on Dataframe\n",
    "- Run WordCounter on Dataframe\n",
    "\n",
    "\n",
    "\n",
    "ToDo:\n",
    "- (Put DataframeExtractor in AnalysisClass instead of outside loop?)\n",
    "- Make DataframeExtractor column_value accept regex queries rather than just a value \n",
    "- Modify EmbeddingComparer to see most quintessential wordcounts (and not replicate Scattertext?)\n"
   ]
  },
  {
   "cell_type": "markdown",
   "metadata": {},
   "source": [
    "### Scraping Reddit"
   ]
  },
  {
   "cell_type": "code",
   "execution_count": 6,
   "metadata": {},
   "outputs": [],
   "source": [
    "subs = [\"worldpolitics\", \"anime_titties\"]\n",
    "#maxs = 1000 # I LITERALLY TRIED FOR HOURS TO HAVE THIS NOT HARD CODED DEAR GOD PLEASE HELP ME #TODO"
   ]
  },
  {
   "cell_type": "code",
   "execution_count": 7,
   "metadata": {},
   "outputs": [],
   "source": [
    "# %run scripts/Submissions_edit.py \n",
    "# %run scripts/Comments_edit.py\n",
    "\n",
    "# #submissioninit(subs)\n",
    "# #commentsinit(subs)"
   ]
  },
  {
   "cell_type": "code",
   "execution_count": 8,
   "metadata": {},
   "outputs": [
    {
     "name": "stdout",
     "output_type": "stream",
     "text": [
      "Max submissions set to 25000\n",
      "Downloading: worldpolitics\n",
      "Downloading: 500 submissions\n",
      "Downloading: 500 submissions\n",
      "Downloading: 500 submissions\n",
      "Downloading: 500 submissions\n",
      "Downloading: 500 submissions\n",
      "Downloading: 500 submissions\n",
      "Downloading: 500 submissions\n",
      "Downloading: 500 submissions\n",
      "Downloading: 500 submissions\n",
      "Downloading: 500 submissions\n",
      "Downloading: 500 submissions\n",
      "Downloading: 500 submissions\n",
      "Downloading: 500 submissions\n",
      "Downloading: 500 submissions\n",
      "Downloading: 500 submissions\n",
      "Downloading: 500 submissions\n",
      "Downloading: 500 submissions\n",
      "Downloading: 500 submissions\n",
      "Downloading: 500 submissions\n",
      "Downloading: 500 submissions\n",
      "Downloading: 500 submissions\n",
      "Downloading: 500 submissions\n",
      "Downloading: 500 submissions\n",
      "Downloading: 500 submissions\n",
      "Downloading: 500 submissions\n",
      "Downloading: 500 submissions\n",
      "Downloading: 500 submissions\n",
      "Downloading: 500 submissions\n",
      "Downloading: 500 submissions\n",
      "Downloading: 500 submissions\n",
      "Downloading: 500 submissions\n",
      "Downloading: 500 submissions\n",
      "Downloading: 500 submissions\n",
      "Downloading: 500 submissions\n",
      "Downloading: 500 submissions\n",
      "Downloading: 500 submissions\n",
      "Downloading: 500 submissions\n",
      "Downloading: 500 submissions\n",
      "Downloading: 500 submissions\n",
      "Downloading: 500 submissions\n",
      "Downloading: 500 submissions\n",
      "Downloading: 500 submissions\n",
      "Downloading: 500 submissions\n",
      "Downloading: 500 submissions\n",
      "Downloading: 500 submissions\n",
      "Downloading: 500 submissions\n",
      "Downloading: 500 submissions\n",
      "Downloading: 500 submissions\n",
      "Downloading: 500 submissions\n",
      "Downloading: 500 submissions\n",
      "Download complete.\n",
      "Downloading: anime_titties\n",
      "Downloading: 500 submissions\n",
      "Downloading: 500 submissions\n",
      "Downloading: 500 submissions\n",
      "Downloading: 500 submissions\n",
      "Downloading: 500 submissions\n",
      "Downloading: 68 submissions\n",
      "No more results.\n"
     ]
    }
   ],
   "source": [
    "# %run scripts/Submissions_edit.py 25000\n",
    "# %run scripts/Comments_edit.py 2000\n",
    "\n",
    "# submissioninit(subs)\n",
    "# #commentsinit(subs)"
   ]
  },
  {
   "cell_type": "code",
   "execution_count": 9,
   "metadata": {},
   "outputs": [
    {
     "name": "stdout",
     "output_type": "stream",
     "text": [
      "Downloading: worldpolitics\n",
      "Downloading: 500 comments\n",
      "Downloading: 500 comments\n",
      "Downloading: 500 comments\n",
      "Downloading: 500 comments\n",
      "Downloading: 500 comments\n",
      "Downloading: 500 comments\n",
      "Downloading: 500 comments\n",
      "Downloading: 500 comments\n",
      "Downloading: 500 comments\n",
      "Downloading: 500 comments\n",
      "Download complete.\n",
      "Downloading: anime_titties\n",
      "Downloading: 500 comments\n",
      "Downloading: 500 comments\n",
      "Downloading: 500 comments\n",
      "Downloading: 500 comments\n",
      "Downloading: 500 comments\n",
      "Downloading: 500 comments\n",
      "Downloading: 500 comments\n",
      "Downloading: 500 comments\n",
      "Downloading: 500 comments\n",
      "Downloading: 500 comments\n",
      "Download complete.\n"
     ]
    }
   ],
   "source": [
    "\n",
    "%run scripts/Comments_edit.py 2000\n",
    "commentsinit(subs)"
   ]
  },
  {
   "cell_type": "code",
   "execution_count": 18,
   "metadata": {},
   "outputs": [],
   "source": [
    "%run code/AnalysisClasses.py\n",
    "\n",
    "def CSVtoDF(subreddit, contenttype):\n",
    "    submissions = pd.read_csv(\"csvs/\" + subreddit + \"-submissions.csv\") \n",
    "    comments = pd.read_csv(\"csvs/\" + subreddit + \"-comments.csv\")\n",
    "    if contenttype == 'comments':\n",
    "        return comments\n",
    "    if contenttype == 'submissions':\n",
    "        return submissions"
   ]
  },
  {
   "cell_type": "code",
   "execution_count": 19,
   "metadata": {},
   "outputs": [],
   "source": [
    "worldpolitics_submissions = CSVtoDF('worldpolitics', 'submissions')\n",
    "worldpolitics_comments = CSVtoDF('worldpolitics', 'comments')\n",
    "anime_titties_submissions = CSVtoDF('anime_titties', 'submissions')\n",
    "anime_titties_comments = CSVtoDF('anime_titties', 'comments')"
   ]
  },
  {
   "cell_type": "code",
   "execution_count": 20,
   "metadata": {},
   "outputs": [
    {
     "name": "stdout",
     "output_type": "stream",
     "text": [
      "                 datetime               author  \\\n",
      "0     2020-07-02 12:39:21             jackst10   \n",
      "1     2020-07-02 12:35:37         ExplosiveRox   \n",
      "2     2020-07-02 12:34:45  bondrewd-lord-of-ew   \n",
      "3     2020-07-02 12:31:15       Butterferret12   \n",
      "4     2020-07-02 12:28:34        MAGIC_EYE_BOT   \n",
      "...                   ...                  ...   \n",
      "4995  2020-06-29 20:11:26                krawm   \n",
      "4996  2020-06-29 20:11:02           Gnome_Sane   \n",
      "4997  2020-06-29 20:10:52  thisismyusername_98   \n",
      "4998  2020-06-29 20:10:00                krawm   \n",
      "4999  2020-06-29 20:09:58         Leevilstoeoe   \n",
      "\n",
      "                                                   body  \n",
      "0                                            Niet blyat  \n",
      "1                                                  nice  \n",
      "2                                           Begone THOT  \n",
      "3                                     The true centrist  \n",
      "4     This post has been automatically removed becau...  \n",
      "...                                                 ...  \n",
      "4995                                SCP-8548: Cyclopian  \n",
      "4996    \"Your Rectum\". Now that's an interesting title.  \n",
      "4997  Who doesn't!? Nobody admits it... But everyone...  \n",
      "4998  The perfectly summarizes the current state of ...  \n",
      "4999  I have no idea what's happening in this, or wh...  \n",
      "\n",
      "[5000 rows x 3 columns]\n"
     ]
    }
   ],
   "source": [
    "print(worldpolitics_comments)\n"
   ]
  },
  {
   "cell_type": "code",
   "execution_count": 34,
   "metadata": {},
   "outputs": [
    {
     "name": "stdout",
     "output_type": "stream",
     "text": [
      "min date is time.struct_time(tm_year=2020, tm_mon=7, tm_mday=2, tm_hour=0, tm_min=0, tm_sec=0, tm_wday=3, tm_yday=184, tm_isdst=-1)\n",
      "killing rows []\n"
     ]
    }
   ],
   "source": [
    "%run code/AnalysisClasses.py\n",
    "worldpolitics_comments = AnalysisClasses.DateFilterADF(dataframe=worldpolitics_comments, min_date=\"2020-07-02 00:00:00\")"
   ]
  },
  {
   "cell_type": "code",
   "execution_count": 35,
   "metadata": {},
   "outputs": [
    {
     "name": "stdout",
     "output_type": "stream",
     "text": [
      "                datetime               author  \\\n",
      "0    2020-07-02 12:39:21             jackst10   \n",
      "1    2020-07-02 12:35:37         ExplosiveRox   \n",
      "2    2020-07-02 12:34:45  bondrewd-lord-of-ew   \n",
      "3    2020-07-02 12:31:15       Butterferret12   \n",
      "4    2020-07-02 12:28:34        MAGIC_EYE_BOT   \n",
      "..                   ...                  ...   \n",
      "692  2020-07-02 00:04:50              hrothni   \n",
      "693  2020-07-02 00:03:54        myriclisselle   \n",
      "694  2020-07-02 00:01:51             FosterRI   \n",
      "695  2020-07-02 00:00:52            [deleted]   \n",
      "696  2020-07-02 00:00:17      WinterNeoQuartz   \n",
      "\n",
      "                                                  body  \n",
      "0                                           Niet blyat  \n",
      "1                                                 nice  \n",
      "2                                          Begone THOT  \n",
      "3                                    The true centrist  \n",
      "4    This post has been automatically removed becau...  \n",
      "..                                                 ...  \n",
      "692                                    Wow. Time flies  \n",
      "693                                               Same  \n",
      "694  It is really amazing. Do you know why British ...  \n",
      "695                                          [removed]  \n",
      "696                                           Downvote  \n",
      "\n",
      "[697 rows x 3 columns]\n"
     ]
    }
   ],
   "source": [
    "print(worldpolitics_comments)"
   ]
  },
  {
   "cell_type": "markdown",
   "metadata": {},
   "source": [
    "### Analyzing reddit"
   ]
  },
  {
   "cell_type": "markdown",
   "metadata": {},
   "source": [
    "#### Selecting a column + column value"
   ]
  },
  {
   "cell_type": "code",
   "execution_count": 14,
   "metadata": {},
   "outputs": [
    {
     "name": "stdout",
     "output_type": "stream",
     "text": [
      "                 datetime         author  \\\n",
      "3     2020-06-25 19:37:48  LordJohnStark   \n",
      "30    2020-06-25 19:11:14  AutoModerator   \n",
      "780   2020-06-25 07:23:04  AutoModerator   \n",
      "782   2020-06-25 07:17:10  AutoModerator   \n",
      "861   2020-06-25 06:05:41  AutoModerator   \n",
      "2477  2020-06-24 12:18:19  AutoModerator   \n",
      "3010  2020-06-24 04:47:58  AutoModerator   \n",
      "3498  2020-06-23 21:53:09  AutoModerator   \n",
      "3995  2020-06-23 16:09:59  AutoModerator   \n",
      "4095  2020-06-23 14:08:02     PrimalMusk   \n",
      "4766  2020-06-23 00:44:15  AutoModerator   \n",
      "4995  2020-06-22 21:43:20  AutoModerator   \n",
      "4996  2020-06-22 21:43:13     PrimalMusk   \n",
      "\n",
      "                                                   body  \n",
      "3     Yeah i was like,   wtf this has nothing to do ...  \n",
      "30    We do not currently accept submissions from ne...  \n",
      "780   We do not currently accept submissions from ne...  \n",
      "782   We do not currently accept submissions from ne...  \n",
      "861   We do not currently accept submissions from ne...  \n",
      "2477  We do not currently accept submissions from ne...  \n",
      "3010  We do not currently accept submissions from ne...  \n",
      "3498  We do not currently accept submissions from ne...  \n",
      "3995  We do not currently accept submissions from ne...  \n",
      "4095  &gt; Congratulations.\\n\\nThank you\\n\\n&gt; Are...  \n",
      "4766  We do not currently accept submissions from ne...  \n",
      "4995  We do not currently accept submissions from ne...  \n",
      "4996                                               Lol.  \n"
     ]
    }
   ],
   "source": [
    "%run code/AnalysisClasses.py\n",
    "\n",
    "#AutoModerator = DataframeExtractor(worldpolitics_comments, 'author', ['AutoModerator'])\n",
    "#AutoModerator = DataframeExtractor(worldpolitics_comments, 'author', ['AutoModerator'], textonly=\"yes\")\n",
    "multipleauthors = DataframeExtractor(dataframe=worldpolitics_comments, column='author', columnvalue=['AutoModerator', 'LordJohnStark', 'PrimalMusk'])\n",
    "print(multipleauthors)\n",
    "\n",
    "#wp_com_2020 = AnalysisClasses.DataframeExtractor(worldpolitics_comments, 'datetime') # TODO filter for time etc"
   ]
  },
  {
   "cell_type": "markdown",
   "metadata": {},
   "source": [
    "#### Integrating that with Sentiment Analysis"
   ]
  },
  {
   "cell_type": "code",
   "execution_count": 15,
   "metadata": {},
   "outputs": [
    {
     "data": {
      "image/png": "[encoded data removed]",
      "text/plain": [
       "<Figure size 432x288 with 1 Axes>"
      ]
     },
     "metadata": {
      "needs_background": "light"
     },
     "output_type": "display_data"
    },
    {
     "data": {
      "text/plain": [
       "<Figure size 432x288 with 0 Axes>"
      ]
     },
     "metadata": {},
     "output_type": "display_data"
    }
   ],
   "source": [
    "#TODO DataframeExtractor in same class?\n",
    "%run code/AnalysisClasses.py\n",
    "\n",
    "#sen = AnalysisClasses.SentimentGrapher(dataframe=worldpolitics_comments, column='author', column_value=(['AutoModerator', 'LordJohnStark', 'PrimalMusk']))\n",
    "sen = AnalysisClasses.SentimentGrapher(dataframe=worldpolitics_comments, column='author', column_value=(['AutoModerator', 'LordJohnStark', 'PrimalMusk']), plotname='plots/sentiment_author_trial', plotkind='bar')\n",
    "#print(sen)"
   ]
  },
  {
   "cell_type": "code",
   "execution_count": 37,
   "metadata": {},
   "outputs": [
    {
     "name": "stdout",
     "output_type": "stream",
     "text": [
      "min date is time.struct_time(tm_year=2020, tm_mon=7, tm_mday=2, tm_hour=0, tm_min=0, tm_sec=0, tm_wday=3, tm_yday=184, tm_isdst=-1)\n",
      "killing rows []\n"
     ]
    }
   ],
   "source": [
    "worldpolitics_comments_20200702 = AnalysisClasses.DateFilterADF(dataframe=worldpolitics_comments, min_date=\"2020-07-02 00:00:00\")\n",
    "\n",
    "start = time.strptime(our_date, \"%Y-%m-%d %H:%M:%S\" )\n",
    "week_start_day = int( ( time.tm_yday - time.tm_wday ) / 7 )\n",
    "time.tm_yday = week_start_day * 7\n",
    "time.tm_wday = 0\n",
    "end = time(start)\n",
    "end = end.timedelta(days=7)"
   ]
  },
  {
   "cell_type": "code",
   "execution_count": 43,
   "metadata": {},
   "outputs": [
    {
     "name": "stdout",
     "output_type": "stream",
     "text": [
      "2020-07-02 13:52:46.127530\n",
      "2020-07-16 13:52:46.127530\n"
     ]
    }
   ],
   "source": [
    "today = datetime.today()\n",
    "print(today)\n",
    "\n",
    "from datetime import timedelta\n",
    "delta = today + timedelta(weeks=2)\n",
    "print(delta)\n",
    "#today_week = today.timedelta(weeks)"
   ]
  },
  {
   "cell_type": "markdown",
   "metadata": {},
   "source": [
    "#### print(anime_titties_comments)\n",
    "\n",
    "#TODO with regex?\n",
    "animetittiesovertime = DataframeExtractor(dataframe=anime_titties_comments, column='datetime', columnvalue=['2020'])\n",
    "print(animetittiesovertime)"
   ]
  },
  {
   "cell_type": "markdown",
   "metadata": {},
   "source": [
    "#### Wordcount test"
   ]
  },
  {
   "cell_type": "code",
   "execution_count": 17,
   "metadata": {},
   "outputs": [
    {
     "name": "stdout",
     "output_type": "stream",
     "text": [
      "Counter({'the': 14, 'white': 5, 'a': 5, 'issue': 5, 'they': 5, 'is': 5, 'for': 5, 'I': 4, 'that': 4, 'be': 4, 'just': 4, 'are': 3, 'you': 3, 'in': 3, 'wrong': 3, 'camps': 3, 'and': 3, 'being': 3, 'but': 3, 'my': 3, \"you're\": 3, 'on': 3, 'to': 2, 'all': 2, 'people': 2, '21st': 2, 'century': 2, 'concentration': 2, \"it's\": 2, 'technically': 2, \"they're\": 2, 'with': 2, 'non': 2, 'have': 2, 'say': 2, 'what': 2, 'so': 2, 'can': 2, 'not': 2, 'yeah,': 2, 'it': 2, 'African': 2, 'if': 2, 'here,': 2, 'US': 2, 'Yeah,': 2, 'plus': 2, 'has': 2, 'Fine,': 1, 'ethnically': 1, 'white.': 1, 'How': 1, 'going': 1, 'move': 1, 'goalposts': 1, 'this': 1, 'time?': 1, 'Oh': 1, 'yeah?': 1, 'Show': 1, 'me': 1, 'cages,': 1, \"I'll\": 1, 'wait.': 1, 'Am': 1, \"US's\": 1, 'bad': 1, \"that's\": 1, 'bigger': 1, 'than': 1, 'some': 1, 'Hispanics': 1, 'still': 1, 'detained?': 1, 'Are': 1, 'saying': 1, 'since': 1, \"shouldn't\": 1, 'detained': 1, 'whites?': 1, 'This': 1, 'an': 1, 'contrarians.': 1, 'They': 1, 'shit': 1, 'against': 1, \"won't\": 1, 'actually': 1, 'support,': 1, 'let': 1, 'mind': 1, 'think': 1, 'of': 1, 'worst': 1, 'thing': 1, 'usually': 1, 'right.': 1, 'Well': 1, 'failing': 1, 'cunt.': 1, 'That': 1, 'short': 1, 'sweet': 1, 'enough': 1, 'you?': 1, 'Race': 1, 'made': 1, 'up': 1, 'concept': 1, 'by': 1, 'people,': 1, 'semantics.': 1, 'A': 1, 'person': 1, 'American': 1, 'from': 1, 'South': 1, 'Africa,': 1, \"don't\": 1, 'face': 1, 'same': 1, 'issues': 1, 'as': 1, 'black': 1, 'Americans.': 1, 'Again,': 1, 'wording': 1, \"isn't\": 1, \"doesn't\": 1, 'value': 1, 'your': 1, 'life': 1, 'color': 1, 'or': 1, 'class.': 1, 'because': 1, 'semantics': 1, 'real': 1, 'modern': 1, 'day': 1, 'Nah,': 1, 'we': 1, 'gestapo': 1, 'law': 1, 'enforcement': 1, \"'dentention\": 1, \"facilities'\": 1, 'immigrants': 1, 'Last': 1, 'Podcast': 1, 'Left': 1, 'good': 1, 'episode': 1, 'Nah': 1, 'good,': 1, 'should': 1, 'said': 1, 'original': 1, 'comment.': 1, \"Don't\": 1, 'even': 1, 'trip': 1, 'dude': 1, 'Shit': 1, 'government': 1, 'We': 1, 'also': 1, 'had': 1, 'interment': 1, 'Japanese': 1, 'during': 1, 'WWII,': 1, 'experimented': 1, 'our': 1, 'own': 1, 'population.': 1, 'Everybody': 1, 'sins': 1, 'their': 1, 'past,': 1, 'matters': 1, 'how': 1, 'repent': 1, 'them.': 1})\n"
     ]
    }
   ],
   "source": [
    "%run code/AnalysisClasses.py\n",
    "\n",
    "\n",
    "animetitties_user_dogmodoga = AnalysisClasses.WordCounter(dataframe=anime_titties_comments, column='author', column_value=['dogmodoga'])\n",
    "animetitties_user_lonliestmonroni = AnalysisClasses.WordCounter(dataframe=anime_titties_comments, column='author', column_value=['LonliestMonroni'])\n",
    "print(animetitties_user_lonliestmonroni)"
   ]
  },
  {
   "cell_type": "markdown",
   "metadata": {},
   "source": [
    "#### Wordcount comparer"
   ]
  },
  {
   "cell_type": "code",
   "execution_count": null,
   "metadata": {},
   "outputs": [],
   "source": [
    "# TODO\n",
    "\"\"\"see AnalysisClasses.EmbeddingComparer and modify\"\"\"\n"
   ]
  },
  {
   "cell_type": "code",
   "execution_count": null,
   "metadata": {},
   "outputs": [],
   "source": []
  }
 ],
 "metadata": {
  "kernelspec": {
   "display_name": "Python 3",
   "language": "python",
   "name": "python3"
  },
  "language_info": {
   "codemirror_mode": {
    "name": "ipython",
    "version": 3
   },
   "file_extension": ".py",
   "mimetype": "text/x-python",
   "name": "python",
   "nbconvert_exporter": "python",
   "pygments_lexer": "ipython3",
   "version": "3.7.0"
  }
 },
 "nbformat": 4,
 "nbformat_minor": 4
}
