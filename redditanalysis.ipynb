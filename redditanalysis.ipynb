{
 "cells": [
  {
   "cell_type": "code",
   "execution_count": 121,
   "metadata": {},
   "outputs": [],
   "source": [
    "import pandas as pd\n",
    "import re"
   ]
  },
  {
   "cell_type": "markdown",
   "metadata": {},
   "source": [
    "### Scraping Reddit"
   ]
  },
  {
   "cell_type": "code",
   "execution_count": 122,
   "metadata": {},
   "outputs": [],
   "source": [
    "subs = [\"worldpolitics\", \"anime_titties\"]\n",
    "maxs = 1000 # I LITERALLY TRIED FOR HOURS TO HAVE THIS NOT HARD CODED DEAR GOD PLEASE HELP ME #TODO"
   ]
  },
  {
   "cell_type": "code",
   "execution_count": 123,
   "metadata": {},
   "outputs": [],
   "source": [
    "%run scripts/Submissions_edit.py\n",
    "%run scripts/Comments_edit.py\n",
    "\n",
    "#submissioninit(subs)\n",
    "#commentsinit(subs)"
   ]
  },
  {
   "cell_type": "code",
   "execution_count": 124,
   "metadata": {},
   "outputs": [],
   "source": [
    "def CSVtoDF(subreddit, contenttype):\n",
    "    submissions = pd.read_csv(\"csvs/\" + subreddit + \"-submissions.csv\") \n",
    "    comments = pd.read_csv(\"csvs/\" + subreddit + \"-comments.csv\")\n",
    "    if contenttype == 'comments':\n",
    "        return comments\n",
    "    if contenttype == 'submissions':\n",
    "        return submissions"
   ]
  },
  {
   "cell_type": "code",
   "execution_count": 125,
   "metadata": {},
   "outputs": [],
   "source": [
    "worldpolitics_submissions = CSVtoDF('worldpolitics', 'submissions')\n",
    "worldpolitics_comments = CSVtoDF('worldpolitics', 'comments')\n",
    "anime_titties_submissions = CSVtoDF('anime_titties', 'submissions')\n",
    "anime_titties_comments = CSVtoDF('anime_titties', 'comments')"
   ]
  },
  {
   "cell_type": "code",
   "execution_count": 126,
   "metadata": {},
   "outputs": [
    {
     "name": "stdout",
     "output_type": "stream",
     "text": [
      "                 datetime              author  \\\n",
      "0     2020-06-25 19:49:07          I-Am-Skrit   \n",
      "1     2020-06-25 19:44:49        Brave_Samuel   \n",
      "2     2020-06-25 19:43:45         MaxImageBot   \n",
      "3     2020-06-25 19:37:48       LordJohnStark   \n",
      "4     2020-06-25 19:32:16            JeanStey   \n",
      "...                   ...                 ...   \n",
      "4995  2020-06-22 21:43:20       AutoModerator   \n",
      "4996  2020-06-22 21:43:13          PrimalMusk   \n",
      "4997  2020-06-22 21:41:49          korny_guys   \n",
      "4998  2020-06-22 21:41:49  White_T_Poison_100   \n",
      "4999  2020-06-22 21:41:44      Elgordofordo86   \n",
      "\n",
      "                                                   body  \n",
      "0     Bois we might have found it, a big tiddy goth ...  \n",
      "1     This was way too long to read, so I didn’t. I ...  \n",
      "2     69% larger (1080x784) version of linked image:...  \n",
      "3     Yeah i was like,   wtf this has nothing to do ...  \n",
      "4     Are you good? Or are you just naturally dense?...  \n",
      "...                                                 ...  \n",
      "4995  We do not currently accept submissions from ne...  \n",
      "4996                                               Lol.  \n",
      "4997             Or the government when they want taxes  \n",
      "4998  I admire you trying to get them to this conclu...  \n",
      "4999                                   Dog shit go brrr  \n",
      "\n",
      "[5000 rows x 3 columns]\n"
     ]
    }
   ],
   "source": [
    "print(worldpolitics_comments)"
   ]
  },
  {
   "cell_type": "markdown",
   "metadata": {},
   "source": [
    "### Analyzing reddit"
   ]
  },
  {
   "cell_type": "code",
   "execution_count": 127,
   "metadata": {},
   "outputs": [],
   "source": [
    "%run code/AnalysisClasses.py"
   ]
  },
  {
   "cell_type": "code",
   "execution_count": 128,
   "metadata": {},
   "outputs": [],
   "source": [
    "#sen = AnalysisClasses.VaderAnalyser(dataframe=worldpolitics_comments, column='author', column_value=(['AutoModerator', 'LordJohnStark', 'PrimalMusk']), plotname='sentiment_author_trial', plotkind='bar')\n"
   ]
  },
  {
   "cell_type": "markdown",
   "metadata": {},
   "source": [
    "#### Selecting a column + column value"
   ]
  },
  {
   "cell_type": "code",
   "execution_count": 139,
   "metadata": {},
   "outputs": [
    {
     "name": "stdout",
     "output_type": "stream",
     "text": [
      "                 datetime         author  \\\n",
      "3     2020-06-25 19:37:48  LordJohnStark   \n",
      "30    2020-06-25 19:11:14  AutoModerator   \n",
      "780   2020-06-25 07:23:04  AutoModerator   \n",
      "782   2020-06-25 07:17:10  AutoModerator   \n",
      "861   2020-06-25 06:05:41  AutoModerator   \n",
      "2477  2020-06-24 12:18:19  AutoModerator   \n",
      "3010  2020-06-24 04:47:58  AutoModerator   \n",
      "3498  2020-06-23 21:53:09  AutoModerator   \n",
      "3995  2020-06-23 16:09:59  AutoModerator   \n",
      "4095  2020-06-23 14:08:02     PrimalMusk   \n",
      "4766  2020-06-23 00:44:15  AutoModerator   \n",
      "4995  2020-06-22 21:43:20  AutoModerator   \n",
      "4996  2020-06-22 21:43:13     PrimalMusk   \n",
      "\n",
      "                                                   body  \n",
      "3     Yeah i was like,   wtf this has nothing to do ...  \n",
      "30    We do not currently accept submissions from ne...  \n",
      "780   We do not currently accept submissions from ne...  \n",
      "782   We do not currently accept submissions from ne...  \n",
      "861   We do not currently accept submissions from ne...  \n",
      "2477  We do not currently accept submissions from ne...  \n",
      "3010  We do not currently accept submissions from ne...  \n",
      "3498  We do not currently accept submissions from ne...  \n",
      "3995  We do not currently accept submissions from ne...  \n",
      "4095  &gt; Congratulations.\\n\\nThank you\\n\\n&gt; Are...  \n",
      "4766  We do not currently accept submissions from ne...  \n",
      "4995  We do not currently accept submissions from ne...  \n",
      "4996                                               Lol.  \n"
     ]
    }
   ],
   "source": [
    "%run code/AnalysisClasses.py\n",
    "\n",
    "#AutoModerator = DataframeExtractor(worldpolitics_comments, 'author', ['AutoModerator'])\n",
    "#AutoModerator = DataframeExtractor(worldpolitics_comments, 'author', ['AutoModerator'], textonly=\"yes\")\n",
    "multipleauthors = DataframeExtractor(dataframe=worldpolitics_comments, column='author', columnvalue=['AutoModerator', 'LordJohnStark', 'PrimalMusk'])\n",
    "print(multipleauthors)\n",
    "\n",
    "#wp_com_2020 = AnalysisClasses.DataframeExtractor(worldpolitics_comments, 'datetime') # TODO filter for time etc"
   ]
  },
  {
   "cell_type": "markdown",
   "metadata": {},
   "source": [
    "#### Integrating that with Sentiment Analysis"
   ]
  },
  {
   "cell_type": "code",
   "execution_count": 148,
   "metadata": {},
   "outputs": [
    {
     "data": {
      "image/png": "[encoded data removed]",
      "text/plain": [
       "<Figure size 432x288 with 1 Axes>"
      ]
     },
     "metadata": {
      "needs_background": "light"
     },
     "output_type": "display_data"
    },
    {
     "data": {
      "text/plain": [
       "<Figure size 432x288 with 0 Axes>"
      ]
     },
     "metadata": {},
     "output_type": "display_data"
    }
   ],
   "source": [
    "#TODO DataframeExtractor in same class?\n",
    "%run code/AnalysisClasses.py\n",
    "\n",
    "#sen = AnalysisClasses.SentimentGrapher(dataframe=worldpolitics_comments, column='author', column_value=(['AutoModerator', 'LordJohnStark', 'PrimalMusk']))\n",
    "sen = AnalysisClasses.SentimentGrapher(dataframe=worldpolitics_comments, column='author', column_value=(['AutoModerator', 'LordJohnStark', 'PrimalMusk']), plotname='sentiment_author_trial', plotkind='bar')\n",
    "#print(sen)"
   ]
  },
  {
   "cell_type": "code",
   "execution_count": 151,
   "metadata": {},
   "outputs": [
    {
     "name": "stdout",
     "output_type": "stream",
     "text": [
      "                 datetime             author  \\\n",
      "0     2020-06-25 19:45:05  general_bonesteel   \n",
      "1     2020-06-25 19:44:13    Colordripcandle   \n",
      "2     2020-06-25 19:43:32    LonliestMonroni   \n",
      "3     2020-06-25 19:37:08         Snoot_Boot   \n",
      "4     2020-06-25 19:33:11          Toyotatea   \n",
      "...                   ...                ...   \n",
      "4995  2020-06-18 20:09:51          dogmodoga   \n",
      "4996  2020-06-18 20:08:06      frostcanadian   \n",
      "4997  2020-06-18 20:06:37           DCFY7439   \n",
      "4998  2020-06-18 20:00:44          Henryman2   \n",
      "4999  2020-06-18 20:00:39           DCFY7439   \n",
      "\n",
      "                                                   body  \n",
      "0               Thanks Jesus? Or Zeus just showing off?  \n",
      "1     white is a race mot an ethnicity \\n\\nI'm not t...  \n",
      "2     Fine, ethnically white. How are you going to m...  \n",
      "3     Apparently the US is one of the worst places o...  \n",
      "4     While there isn't any criminal offence, they d...  \n",
      "...                                                 ...  \n",
      "4995  They found out on December 27th and reported i...  \n",
      "4996  My knowledge on this subject is pretty basic, ...  \n",
      "4997  Who is the arbitrator of honest and quality jo...  \n",
      "4998  No, I’d like to see actual honest and quality ...  \n",
      "4999  &gt;I said something very reasonable to begin ...  \n",
      "\n",
      "[5000 rows x 3 columns]\n",
      "Empty DataFrame\n",
      "Columns: [datetime, author, body]\n",
      "Index: []\n"
     ]
    }
   ],
   "source": [
    "print(anime_titties_comments)\n",
    "\n",
    "#TODO with regex?\n",
    "animetittiesovertime = DataframeExtractor(dataframe=anime_titties_comments, column='datetime', columnvalue=['2020'])\n",
    "print(animetittiesovertime)"
   ]
  },
  {
   "cell_type": "code",
   "execution_count": null,
   "metadata": {},
   "outputs": [],
   "source": []
  },
  {
   "cell_type": "code",
   "execution_count": null,
   "metadata": {},
   "outputs": [],
   "source": []
  }
 ],
 "metadata": {
  "kernelspec": {
   "display_name": "Python 3",
   "language": "python",
   "name": "python3"
  },
  "language_info": {
   "codemirror_mode": {
    "name": "ipython",
    "version": 3
   },
   "file_extension": ".py",
   "mimetype": "text/x-python",
   "name": "python",
   "nbconvert_exporter": "python",
   "pygments_lexer": "ipython3",
   "version": "3.7.0"
  }
 },
 "nbformat": 4,
 "nbformat_minor": 4
}
